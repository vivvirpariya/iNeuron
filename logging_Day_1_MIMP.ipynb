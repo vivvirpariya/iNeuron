{
 "cells": [
  {
   "cell_type": "code",
   "execution_count": 1,
   "id": "01cc0d1e",
   "metadata": {},
   "outputs": [
    {
     "name": "stdout",
     "output_type": "stream",
     "text": [
      "asdf\n"
     ]
    }
   ],
   "source": [
    "#Login\n",
    "print(\"asdf\")\n",
    "#print word not use in Production."
   ]
  },
  {
   "cell_type": "code",
   "execution_count": 1,
   "id": "7486ef07",
   "metadata": {},
   "outputs": [],
   "source": [
    "#Login give you feasiblity. Check the Problem.\n",
    "#investigate Purpose.\n",
    "#step_1\n",
    "import logging #these is standard Processer."
   ]
  },
  {
   "cell_type": "code",
   "execution_count": 10,
   "id": "c36f7b9d",
   "metadata": {},
   "outputs": [],
   "source": [
    "logging.basicConfig(filename = \"test.log\", level = logging.INFO) #hararkey #Creat Logging File"
   ]
  },
  {
   "cell_type": "code",
   "execution_count": null,
   "id": "68a1fe75",
   "metadata": {},
   "outputs": [],
   "source": [
    "pwd()"
   ]
  },
  {
   "cell_type": "code",
   "execution_count": null,
   "id": "1d880c6b",
   "metadata": {},
   "outputs": [],
   "source": [
    "#Warning log\n",
    "#debug log\n",
    "#info log\n",
    "#error log\n",
    "#critical log"
   ]
  },
  {
   "cell_type": "code",
   "execution_count": 11,
   "id": "b93079ce",
   "metadata": {},
   "outputs": [],
   "source": [
    "logging.info(\"this is my info log\")\n",
    "logging.warning(\"this is my warning log \")\n",
    "logging.error(\"this is my Error log\")\n",
    "logging.info(\"this is my info log\")\n",
    "logging.warning(\"this is my warning log \")\n",
    "logging.error(\"this is my Error log\")"
   ]
  },
  {
   "cell_type": "code",
   "execution_count": null,
   "id": "0a5419e0",
   "metadata": {},
   "outputs": [],
   "source": [
    "pwd()"
   ]
  },
  {
   "cell_type": "code",
   "execution_count": 15,
   "id": "fb5faa9a",
   "metadata": {},
   "outputs": [],
   "source": [
    "logging.shutdown()"
   ]
  },
  {
   "cell_type": "code",
   "execution_count": 3,
   "id": "ca084f02",
   "metadata": {},
   "outputs": [],
   "source": [
    "import logging\n",
    "logging.basicConfig(filename = \"test2.log\", level = logging.DEBUG, format = \"%(asctime)s %(levelname)s %(message)s\")"
   ]
  },
  {
   "cell_type": "code",
   "execution_count": 5,
   "id": "111311ab",
   "metadata": {},
   "outputs": [],
   "source": [
    "logging.info(\"this is my info log\")\n",
    "logging.warning(\"this is my warning log \")\n",
    "logging.debug(\"this is my debug log\")\n",
    "logging.error(\"this is my Error log\")\n",
    "logging.info(\"this is my info log\")\n",
    "logging.warning(\"this is my warning log \")\n",
    "logging.error(\"this is my Error log\")"
   ]
  },
  {
   "cell_type": "code",
   "execution_count": 6,
   "id": "9396f5c3",
   "metadata": {},
   "outputs": [],
   "source": [
    "#priorities (Error, Warning, info, Debug)"
   ]
  },
  {
   "cell_type": "code",
   "execution_count": 1,
   "id": "d4fc5316",
   "metadata": {},
   "outputs": [],
   "source": [
    "import logging\n",
    "logging.basicConfig(filename = \"test3.log\", level = logging.DEBUG, format = \"%(asctime)s %(levelname)s %(message)s\")"
   ]
  },
  {
   "cell_type": "code",
   "execution_count": 10,
   "id": "8d88cc94",
   "metadata": {},
   "outputs": [],
   "source": [
    "def divbyzero(a,b):\n",
    "    #Exception and logging Use Only set in mind.\n",
    "    logging.info(\"this is my start of my code and i am try to enter %s and %s\", a,b)\n",
    "    try:\n",
    "        div = a/b\n",
    "        logging.info(\"GOOD : executed succ\")\n",
    "    except Exception as e:\n",
    "        logging.error(\"Error has happend \")\n",
    "        logging.exception(\"Exception occured \" + str(e))"
   ]
  },
  {
   "cell_type": "code",
   "execution_count": 5,
   "id": "d0fd5417",
   "metadata": {},
   "outputs": [],
   "source": [
    "divbyzero(8,8)"
   ]
  },
  {
   "cell_type": "code",
   "execution_count": 8,
   "id": "e2fd448f",
   "metadata": {},
   "outputs": [],
   "source": [
    "divbyzero(8,0.5)"
   ]
  },
  {
   "cell_type": "code",
   "execution_count": 11,
   "id": "803685ec",
   "metadata": {},
   "outputs": [],
   "source": [
    "divbyzero(0.8,0.02)"
   ]
  },
  {
   "cell_type": "code",
   "execution_count": 12,
   "id": "983cd15d",
   "metadata": {},
   "outputs": [],
   "source": [
    "divbyzero(0.8,0.0)"
   ]
  },
  {
   "cell_type": "code",
   "execution_count": null,
   "id": "e16edb88",
   "metadata": {},
   "outputs": [],
   "source": []
  }
 ],
 "metadata": {
  "kernelspec": {
   "display_name": "Python 3 (ipykernel)",
   "language": "python",
   "name": "python3"
  },
  "language_info": {
   "codemirror_mode": {
    "name": "ipython",
    "version": 3
   },
   "file_extension": ".py",
   "mimetype": "text/x-python",
   "name": "python",
   "nbconvert_exporter": "python",
   "pygments_lexer": "ipython3",
   "version": "3.9.12"
  }
 },
 "nbformat": 4,
 "nbformat_minor": 5
}
