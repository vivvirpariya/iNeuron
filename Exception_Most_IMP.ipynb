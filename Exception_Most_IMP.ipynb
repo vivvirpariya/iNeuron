{
 "cells": [
  {
   "cell_type": "code",
   "execution_count": 5,
   "id": "22ddd862",
   "metadata": {},
   "outputs": [
    {
     "ename": "UnsupportedOperation",
     "evalue": "not writable",
     "output_type": "error",
     "traceback": [
      "\u001b[1;31m---------------------------------------------------------------------------\u001b[0m",
      "\u001b[1;31mUnsupportedOperation\u001b[0m                      Traceback (most recent call last)",
      "Input \u001b[1;32mIn [5]\u001b[0m, in \u001b[0;36m<cell line: 2>\u001b[1;34m()\u001b[0m\n\u001b[0;32m      1\u001b[0m f \u001b[38;5;241m=\u001b[39m \u001b[38;5;28mopen\u001b[39m(\u001b[38;5;124m\"\u001b[39m\u001b[38;5;124mtest.txt\u001b[39m\u001b[38;5;124m\"\u001b[39m, \u001b[38;5;124m\"\u001b[39m\u001b[38;5;124mr\u001b[39m\u001b[38;5;124m\"\u001b[39m)\n\u001b[1;32m----> 2\u001b[0m \u001b[43mf\u001b[49m\u001b[38;5;241;43m.\u001b[39;49m\u001b[43mwrite\u001b[49m\u001b[43m(\u001b[49m\u001b[38;5;124;43m\"\u001b[39;49m\u001b[38;5;124;43mdsdsds\u001b[39;49m\u001b[38;5;124;43m\"\u001b[39;49m\u001b[43m)\u001b[49m\n",
      "\u001b[1;31mUnsupportedOperation\u001b[0m: not writable"
     ]
    }
   ],
   "source": [
    "f = open(\"test.txt\", \"r\")\n",
    "f.write(\"dsdsds\")"
   ]
  },
  {
   "cell_type": "raw",
   "id": "3a917f06",
   "metadata": {},
   "source": []
  },
  {
   "cell_type": "code",
   "execution_count": 8,
   "id": "5c476737",
   "metadata": {},
   "outputs": [
    {
     "name": "stdout",
     "output_type": "stream",
     "text": [
      "there was mistake \n",
      "this is my code \n"
     ]
    }
   ],
   "source": [
    "try: #try Block\n",
    "    f = open(\"test.txt\", \" r\")\n",
    "    f.write(\"d sdsds\")\n",
    "except: #through in run Time\n",
    "    print(\"there was mistake \")    \n",
    "#type.1 - compal time error - Run time error\n",
    "#type.2 - sythetic error\n",
    "print(\"this is my code \")"
   ]
  },
  {
   "cell_type": "code",
   "execution_count": 14,
   "id": "6f909953",
   "metadata": {},
   "outputs": [
    {
     "name": "stdout",
     "output_type": "stream",
     "text": [
      "[4, 4, 34, 3, 434, 34, 343, 34, 23, 4]\n",
      "[4, 4, 34, 3, 434, 34, 343, 34, 23, 4]\n",
      "[4, 4, 34, 3, 434, 34, 343, 34, 23, 4]\n",
      "[4, 4, 34, 3, 434, 34, 343, 34, 23, 4]\n",
      "[4, 4, 34, 3, 434, 34, 343, 34, 23, 4]\n",
      "[4, 4, 34, 3, 434, 34, 343, 34, 23, 4]\n",
      "[4, 4, 34, 3, 434, 34, 343, 34, 23, 4]\n",
      "[4, 4, 34, 3, 434, 34, 343, 34, 23, 4]\n",
      "[4, 4, 34, 3, 434, 34, 343, 34, 23, 4]\n",
      "[4, 4, 34, 3, 434, 34, 343, 34, 23, 4]\n"
     ]
    }
   ],
   "source": [
    "l = [4,4,34,3,434,34,343,34,23,4]\n",
    "try :\n",
    "    for i in range(len(l)):\n",
    "        print(l)\n",
    "except:\n",
    "    print(\"this is my code\")\n",
    "#SyntaxError: Called Compiler time Error."
   ]
  },
  {
   "cell_type": "code",
   "execution_count": 17,
   "id": "fd574cc0",
   "metadata": {},
   "outputs": [
    {
     "name": "stdout",
     "output_type": "stream",
     "text": [
      "4\n",
      "4\n",
      "34\n",
      "3\n",
      "434\n",
      "34\n",
      "343\n",
      "34\n",
      "23\n",
      "4\n"
     ]
    },
    {
     "ename": "IndexError",
     "evalue": "list index out of range",
     "output_type": "error",
     "traceback": [
      "\u001b[1;31m---------------------------------------------------------------------------\u001b[0m",
      "\u001b[1;31mIndexError\u001b[0m                                Traceback (most recent call last)",
      "Input \u001b[1;32mIn [17]\u001b[0m, in \u001b[0;36m<cell line: 3>\u001b[1;34m()\u001b[0m\n\u001b[0;32m      1\u001b[0m l \u001b[38;5;241m=\u001b[39m [\u001b[38;5;241m4\u001b[39m,\u001b[38;5;241m4\u001b[39m,\u001b[38;5;241m34\u001b[39m,\u001b[38;5;241m3\u001b[39m,\u001b[38;5;241m434\u001b[39m,\u001b[38;5;241m34\u001b[39m,\u001b[38;5;241m343\u001b[39m,\u001b[38;5;241m34\u001b[39m,\u001b[38;5;241m23\u001b[39m,\u001b[38;5;241m4\u001b[39m]\n\u001b[0;32m      3\u001b[0m \u001b[38;5;28;01mfor\u001b[39;00m i \u001b[38;5;129;01min\u001b[39;00m \u001b[38;5;28mrange\u001b[39m(\u001b[38;5;28mlen\u001b[39m(l)\u001b[38;5;241m+\u001b[39m\u001b[38;5;241m1\u001b[39m):\n\u001b[1;32m----> 4\u001b[0m     \u001b[38;5;28mprint\u001b[39m(\u001b[43ml\u001b[49m\u001b[43m[\u001b[49m\u001b[43mi\u001b[49m\u001b[43m]\u001b[49m)\n",
      "\u001b[1;31mIndexError\u001b[0m: list index out of range"
     ]
    }
   ],
   "source": [
    "l = [4,4,34,3,434,34,343,34,23,4]\n",
    "\n",
    "for i in range(len(l)+1):\n",
    "    print(l[i])"
   ]
  },
  {
   "cell_type": "code",
   "execution_count": 20,
   "id": "a3d6ad37",
   "metadata": {},
   "outputs": [
    {
     "name": "stdout",
     "output_type": "stream",
     "text": [
      "4\n",
      "4\n",
      "34\n",
      "3\n",
      "434\n",
      "34\n",
      "343\n",
      "34\n",
      "23\n",
      "4\n",
      "***PLEASE SELECT OTHER OPTION***\n"
     ]
    }
   ],
   "source": [
    "l = [4,4,34,3,434,34,343,34,23,4]\n",
    "try :\n",
    "    for i in range(len(l)+1):\n",
    "        print(l[i])\n",
    "except:\n",
    "    print(\"***PLEASE SELECT OTHER OPTION***\")"
   ]
  },
  {
   "cell_type": "code",
   "execution_count": 23,
   "id": "095cd1b8",
   "metadata": {},
   "outputs": [
    {
     "ename": "SyntaxError",
     "evalue": "invalid syntax (837398943.py, line 5)",
     "output_type": "error",
     "traceback": [
      "\u001b[1;36m  Input \u001b[1;32mIn [23]\u001b[1;36m\u001b[0m\n\u001b[1;33m    for i  range(len(l)+1):\u001b[0m\n\u001b[1;37m           ^\u001b[0m\n\u001b[1;31mSyntaxError\u001b[0m\u001b[1;31m:\u001b[0m invalid syntax\n"
     ]
    }
   ],
   "source": [
    "#main focus on ERROR.\n",
    "\n",
    "l = [4,4,34,3,434,34,343,34,23,4]\n",
    "try :\n",
    "    for i in range(len(l)+1):\n",
    "        print(l[i])\n",
    "except Exception as e: #super Exception function.\n",
    "    print(e)\n",
    "    print(\"***PLEASE SELECT OTHER OPTION***\")"
   ]
  },
  {
   "cell_type": "code",
   "execution_count": 24,
   "id": "9e1bde0c",
   "metadata": {},
   "outputs": [
    {
     "ename": "ZeroDivisionError",
     "evalue": "division by zero",
     "output_type": "error",
     "traceback": [
      "\u001b[1;31m---------------------------------------------------------------------------\u001b[0m",
      "\u001b[1;31mZeroDivisionError\u001b[0m                         Traceback (most recent call last)",
      "Input \u001b[1;32mIn [24]\u001b[0m, in \u001b[0;36m<cell line: 1>\u001b[1;34m()\u001b[0m\n\u001b[1;32m----> 1\u001b[0m \u001b[38;5;241;43m10\u001b[39;49m\u001b[38;5;241;43m/\u001b[39;49m\u001b[38;5;241;43m0\u001b[39;49m\n",
      "\u001b[1;31mZeroDivisionError\u001b[0m: division by zero"
     ]
    }
   ],
   "source": [
    "10/0"
   ]
  },
  {
   "cell_type": "code",
   "execution_count": null,
   "id": "f627927c",
   "metadata": {},
   "outputs": [],
   "source": []
  },
  {
   "cell_type": "code",
   "execution_count": 28,
   "id": "15e2d896",
   "metadata": {},
   "outputs": [
    {
     "name": "stdout",
     "output_type": "stream",
     "text": [
      "SSADJHDD\n",
      "invalid literal for int() with base 10: 'SSADJHDD'\n",
      "***PLEASE ENTER RIGHT INPUT***\n"
     ]
    }
   ],
   "source": [
    "try :\n",
    "    a = int(input())\n",
    "    b = int(input())\n",
    "except Exception as e:\n",
    "    print(e)\n",
    "print(\"***PLEASE ENTER RIGHT INPUT***\")"
   ]
  },
  {
   "cell_type": "code",
   "execution_count": null,
   "id": "093a350a",
   "metadata": {},
   "outputs": [],
   "source": []
  }
 ],
 "metadata": {
  "kernelspec": {
   "display_name": "Python 3 (ipykernel)",
   "language": "python",
   "name": "python3"
  },
  "language_info": {
   "codemirror_mode": {
    "name": "ipython",
    "version": 3
   },
   "file_extension": ".py",
   "mimetype": "text/x-python",
   "name": "python",
   "nbconvert_exporter": "python",
   "pygments_lexer": "ipython3",
   "version": "3.9.12"
  }
 },
 "nbformat": 4,
 "nbformat_minor": 5
}
