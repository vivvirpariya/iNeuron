{
 "cells": [
  {
   "cell_type": "code",
   "execution_count": 1,
   "id": "b0eb63ac",
   "metadata": {},
   "outputs": [
    {
     "data": {
      "text/plain": [
       "2"
      ]
     },
     "execution_count": 1,
     "metadata": {},
     "output_type": "execute_result"
    }
   ],
   "source": [
    "1+1\n"
   ]
  },
  {
   "cell_type": "code",
   "execution_count": 2,
   "id": "1970c513",
   "metadata": {},
   "outputs": [],
   "source": [
    "#python (Target: 12-15 days) \n",
    "#Day:1 [Date: 07 Aug 2022]\n",
    "#system Programming\n",
    "#Software Programming\n",
    "#GUI Interface (Python Lib) [Desktop, Mobile Application]\n",
    "#Web Scrapping\n",
    "#Databases\n",
    "#Num/Scientific Programing\n",
    "#Game Dev.\n",
    "#Image Processing Part\n",
    "#Robotics (Automation)\n",
    "#Data Mining\n",
    "#Data Science (ML/AI)\n",
    "\n",
    "#lib already install in ANACONDA and Other Install as per Req.\n",
    "#Languages + Logics (hire Comapany)\n",
    "\n",
    "# Python: Easy to Use (implement and Learn)\n",
    "# Learn How to Use Librery (Easy to Find out Lib also Complex)\n",
    "#Data Science: without Plug-in (lib Easy to Available)\n",
    "#Fun to Use(enjoy)\n",
    "\n",
    "#python use Industry 3.X Version"
   ]
  },
  {
   "cell_type": "code",
   "execution_count": 3,
   "id": "e994dbf3",
   "metadata": {},
   "outputs": [
    {
     "name": "stdout",
     "output_type": "stream",
     "text": [
      "The Zen of Python, by Tim Peters\n",
      "\n",
      "Beautiful is better than ugly.\n",
      "Explicit is better than implicit.\n",
      "Simple is better than complex.\n",
      "Complex is better than complicated.\n",
      "Flat is better than nested.\n",
      "Sparse is better than dense.\n",
      "Readability counts.\n",
      "Special cases aren't special enough to break the rules.\n",
      "Although practicality beats purity.\n",
      "Errors should never pass silently.\n",
      "Unless explicitly silenced.\n",
      "In the face of ambiguity, refuse the temptation to guess.\n",
      "There should be one-- and preferably only one --obvious way to do it.\n",
      "Although that way may not be obvious at first unless you're Dutch.\n",
      "Now is better than never.\n",
      "Although never is often better than *right* now.\n",
      "If the implementation is hard to explain, it's a bad idea.\n",
      "If the implementation is easy to explain, it may be a good idea.\n",
      "Namespaces are one honking great idea -- let's do more of those!\n"
     ]
    }
   ],
   "source": [
    "import this"
   ]
  },
  {
   "cell_type": "code",
   "execution_count": 4,
   "id": "4586b870",
   "metadata": {},
   "outputs": [
    {
     "name": "stdout",
     "output_type": "stream",
     "text": [
      "this is my first program\n"
     ]
    }
   ],
   "source": [
    "#Variable\n",
    "\n",
    "print(\"this is my first program\")"
   ]
  },
  {
   "cell_type": "code",
   "execution_count": 8,
   "id": "75ca54eb",
   "metadata": {},
   "outputs": [
    {
     "data": {
      "text/plain": [
       "5"
      ]
     },
     "execution_count": 8,
     "metadata": {},
     "output_type": "execute_result"
    }
   ],
   "source": [
    "len(\"Vivek\")"
   ]
  },
  {
   "cell_type": "code",
   "execution_count": 9,
   "id": "a0efbebe",
   "metadata": {},
   "outputs": [
    {
     "data": {
      "text/plain": [
       "5"
      ]
     },
     "execution_count": 9,
     "metadata": {},
     "output_type": "execute_result"
    }
   ],
   "source": [
    "1+4"
   ]
  },
  {
   "cell_type": "code",
   "execution_count": 10,
   "id": "e51ed6bf",
   "metadata": {},
   "outputs": [],
   "source": [
    "#two Way Programing\n",
    "#1.script Base\n",
    "#2.Ops Concept (Moduler Programming)\n",
    "\n",
    "#SYS-HDD-RAM-CPU-MEDIA"
   ]
  },
  {
   "cell_type": "code",
   "execution_count": 16,
   "id": "5f26a48d",
   "metadata": {},
   "outputs": [],
   "source": [
    "a=3 #integer Data (Data type)"
   ]
  },
  {
   "cell_type": "code",
   "execution_count": 21,
   "id": "ab3eb602",
   "metadata": {},
   "outputs": [
    {
     "name": "stdout",
     "output_type": "stream",
     "text": [
      "6\n"
     ]
    }
   ],
   "source": [
    "print(a+3)"
   ]
  },
  {
   "cell_type": "code",
   "execution_count": 18,
   "id": "9502733d",
   "metadata": {},
   "outputs": [
    {
     "data": {
      "text/plain": [
       "3"
      ]
     },
     "execution_count": 18,
     "metadata": {},
     "output_type": "execute_result"
    }
   ],
   "source": [
    "a"
   ]
  },
  {
   "cell_type": "code",
   "execution_count": 19,
   "id": "ee761f78",
   "metadata": {},
   "outputs": [
    {
     "data": {
      "text/plain": [
       "int"
      ]
     },
     "execution_count": 19,
     "metadata": {},
     "output_type": "execute_result"
    }
   ],
   "source": [
    "type(a)"
   ]
  },
  {
   "cell_type": "code",
   "execution_count": 22,
   "id": "fc1f36e2",
   "metadata": {},
   "outputs": [],
   "source": [
    "b = 45.45 #Flote Data type"
   ]
  },
  {
   "cell_type": "code",
   "execution_count": 24,
   "id": "a0895bef",
   "metadata": {},
   "outputs": [
    {
     "data": {
      "text/plain": [
       "float"
      ]
     },
     "execution_count": 24,
     "metadata": {},
     "output_type": "execute_result"
    }
   ],
   "source": [
    "type(b)"
   ]
  },
  {
   "cell_type": "code",
   "execution_count": 25,
   "id": "638d9337",
   "metadata": {},
   "outputs": [],
   "source": [
    "c = \"Vivek\""
   ]
  },
  {
   "cell_type": "code",
   "execution_count": 26,
   "id": "a9df7b0d",
   "metadata": {},
   "outputs": [
    {
     "data": {
      "text/plain": [
       "str"
      ]
     },
     "execution_count": 26,
     "metadata": {},
     "output_type": "execute_result"
    }
   ],
   "source": [
    "type(c) #string Data Type"
   ]
  },
  {
   "cell_type": "code",
   "execution_count": 27,
   "id": "a5e6c46a",
   "metadata": {},
   "outputs": [],
   "source": [
    "#compleex no. (Real no. + Imagenary Part)"
   ]
  },
  {
   "cell_type": "code",
   "execution_count": 28,
   "id": "6564912b",
   "metadata": {},
   "outputs": [],
   "source": [
    "d = 5 + 6j #real + imagenery Part #j is Root"
   ]
  },
  {
   "cell_type": "code",
   "execution_count": 29,
   "id": "c62544dd",
   "metadata": {},
   "outputs": [
    {
     "data": {
      "text/plain": [
       "complex"
      ]
     },
     "execution_count": 29,
     "metadata": {},
     "output_type": "execute_result"
    }
   ],
   "source": [
    "type(d) "
   ]
  },
  {
   "cell_type": "code",
   "execution_count": 30,
   "id": "316944c2",
   "metadata": {},
   "outputs": [
    {
     "data": {
      "text/plain": [
       "(5+6j)"
      ]
     },
     "execution_count": 30,
     "metadata": {},
     "output_type": "execute_result"
    }
   ],
   "source": [
    "d"
   ]
  },
  {
   "cell_type": "code",
   "execution_count": 32,
   "id": "53820ca1",
   "metadata": {},
   "outputs": [],
   "source": [
    "e = c"
   ]
  },
  {
   "cell_type": "code",
   "execution_count": 33,
   "id": "794b0c4a",
   "metadata": {},
   "outputs": [
    {
     "data": {
      "text/plain": [
       "'Vivek'"
      ]
     },
     "execution_count": 33,
     "metadata": {},
     "output_type": "execute_result"
    }
   ],
   "source": [
    "e"
   ]
  },
  {
   "cell_type": "code",
   "execution_count": 35,
   "id": "ec57a922",
   "metadata": {},
   "outputs": [],
   "source": [
    "#Programming is 20% Coding and  80% Debugging #fix by Self always Remember"
   ]
  },
  {
   "cell_type": "code",
   "execution_count": 2,
   "id": "94fd6db0",
   "metadata": {},
   "outputs": [
    {
     "data": {
      "text/plain": [
       "3"
      ]
     },
     "execution_count": 2,
     "metadata": {},
     "output_type": "execute_result"
    }
   ],
   "source": [
    "1+2"
   ]
  },
  {
   "cell_type": "code",
   "execution_count": 3,
   "id": "bffa9f99",
   "metadata": {},
   "outputs": [],
   "source": [
    "g = True #boolen Data 0 and 1"
   ]
  },
  {
   "cell_type": "code",
   "execution_count": 4,
   "id": "017c572d",
   "metadata": {},
   "outputs": [
    {
     "data": {
      "text/plain": [
       "bool"
      ]
     },
     "execution_count": 4,
     "metadata": {},
     "output_type": "execute_result"
    }
   ],
   "source": [
    "type (g)"
   ]
  },
  {
   "cell_type": "code",
   "execution_count": 3,
   "id": "61f11b0d",
   "metadata": {},
   "outputs": [],
   "source": [
    "_a = 445"
   ]
  },
  {
   "cell_type": "code",
   "execution_count": 7,
   "id": "7f8b99af",
   "metadata": {},
   "outputs": [],
   "source": [
    "a = 4565\n",
    "b = \"Vivek\"\n",
    "c = 6+7j\n",
    "d = True\n",
    "e = 546.7"
   ]
  },
  {
   "cell_type": "code",
   "execution_count": 8,
   "id": "da1ec3f0",
   "metadata": {},
   "outputs": [
    {
     "data": {
      "text/plain": [
       "4565"
      ]
     },
     "execution_count": 8,
     "metadata": {},
     "output_type": "execute_result"
    }
   ],
   "source": [
    "a"
   ]
  },
  {
   "cell_type": "code",
   "execution_count": 9,
   "id": "143a0954",
   "metadata": {},
   "outputs": [],
   "source": [
    "a1 = 445\n"
   ]
  },
  {
   "cell_type": "code",
   "execution_count": 10,
   "id": "a5346252",
   "metadata": {},
   "outputs": [
    {
     "data": {
      "text/plain": [
       "5010"
      ]
     },
     "execution_count": 10,
     "metadata": {},
     "output_type": "execute_result"
    }
   ],
   "source": [
    "a + a1"
   ]
  },
  {
   "cell_type": "code",
   "execution_count": 11,
   "id": "83807027",
   "metadata": {},
   "outputs": [],
   "source": [
    "a,b,c,d,e = 214, \"Vivek\", 4+5j , False , 345.345"
   ]
  },
  {
   "cell_type": "code",
   "execution_count": 12,
   "id": "c2f60cad",
   "metadata": {},
   "outputs": [
    {
     "data": {
      "text/plain": [
       "(4+5j)"
      ]
     },
     "execution_count": 12,
     "metadata": {},
     "output_type": "execute_result"
    }
   ],
   "source": [
    "c"
   ]
  },
  {
   "cell_type": "code",
   "execution_count": 13,
   "id": "4fc357a8",
   "metadata": {},
   "outputs": [
    {
     "data": {
      "text/plain": [
       "False"
      ]
     },
     "execution_count": 13,
     "metadata": {},
     "output_type": "execute_result"
    }
   ],
   "source": [
    "d"
   ]
  },
  {
   "cell_type": "code",
   "execution_count": 14,
   "id": "b2f0b045",
   "metadata": {},
   "outputs": [
    {
     "data": {
      "text/plain": [
       "(4+5j)"
      ]
     },
     "execution_count": 14,
     "metadata": {},
     "output_type": "execute_result"
    }
   ],
   "source": [
    "c"
   ]
  },
  {
   "cell_type": "code",
   "execution_count": 15,
   "id": "f3d90d01",
   "metadata": {},
   "outputs": [
    {
     "data": {
      "text/plain": [
       "5.0"
      ]
     },
     "execution_count": 15,
     "metadata": {},
     "output_type": "execute_result"
    }
   ],
   "source": [
    "c.imag"
   ]
  },
  {
   "cell_type": "code",
   "execution_count": 16,
   "id": "342c2d47",
   "metadata": {},
   "outputs": [
    {
     "data": {
      "text/plain": [
       "4.0"
      ]
     },
     "execution_count": 16,
     "metadata": {},
     "output_type": "execute_result"
    }
   ],
   "source": [
    "c.real"
   ]
  },
  {
   "cell_type": "code",
   "execution_count": 17,
   "id": "fdc1fa6e",
   "metadata": {},
   "outputs": [
    {
     "data": {
      "text/plain": [
       "<function str.capitalize()>"
      ]
     },
     "execution_count": 17,
     "metadata": {},
     "output_type": "execute_result"
    }
   ],
   "source": [
    "b.capitalize"
   ]
  },
  {
   "cell_type": "code",
   "execution_count": 18,
   "id": "6fafa539",
   "metadata": {},
   "outputs": [
    {
     "data": {
      "text/plain": [
       "'Vivek'"
      ]
     },
     "execution_count": 18,
     "metadata": {},
     "output_type": "execute_result"
    }
   ],
   "source": [
    "b"
   ]
  },
  {
   "cell_type": "code",
   "execution_count": 20,
   "id": "9ca39fdc",
   "metadata": {},
   "outputs": [
    {
     "data": {
      "text/plain": [
       "'Vivek5'"
      ]
     },
     "execution_count": 20,
     "metadata": {},
     "output_type": "execute_result"
    }
   ],
   "source": [
    "b + str(5)"
   ]
  },
  {
   "cell_type": "code",
   "execution_count": 21,
   "id": "f8ee8a35",
   "metadata": {},
   "outputs": [
    {
     "data": {
      "text/plain": [
       "3"
      ]
     },
     "execution_count": 21,
     "metadata": {},
     "output_type": "execute_result"
    }
   ],
   "source": [
    "1+2"
   ]
  },
  {
   "cell_type": "code",
   "execution_count": 22,
   "id": "feef8f9f",
   "metadata": {},
   "outputs": [
    {
     "data": {
      "text/plain": [
       "2"
      ]
     },
     "execution_count": 22,
     "metadata": {},
     "output_type": "execute_result"
    }
   ],
   "source": [
    "True + True"
   ]
  },
  {
   "cell_type": "code",
   "execution_count": 23,
   "id": "f3033631",
   "metadata": {},
   "outputs": [
    {
     "data": {
      "text/plain": [
       "1"
      ]
     },
     "execution_count": 23,
     "metadata": {},
     "output_type": "execute_result"
    }
   ],
   "source": [
    "True + False"
   ]
  },
  {
   "cell_type": "code",
   "execution_count": 24,
   "id": "a7f619d9",
   "metadata": {},
   "outputs": [
    {
     "data": {
      "text/plain": [
       "2"
      ]
     },
     "execution_count": 24,
     "metadata": {},
     "output_type": "execute_result"
    }
   ],
   "source": [
    "1+True"
   ]
  },
  {
   "cell_type": "code",
   "execution_count": 25,
   "id": "c24cb8d4",
   "metadata": {},
   "outputs": [],
   "source": [
    "#True = 1\n",
    "#False = 0\n",
    "#boolen Variable"
   ]
  },
  {
   "cell_type": "code",
   "execution_count": 26,
   "id": "94744e64",
   "metadata": {},
   "outputs": [
    {
     "name": "stdout",
     "output_type": "stream",
     "text": [
      "Vivek Virpariya\n"
     ]
    },
    {
     "data": {
      "text/plain": [
       "'Vivek Virpariya'"
      ]
     },
     "execution_count": 26,
     "metadata": {},
     "output_type": "execute_result"
    }
   ],
   "source": [
    "input() #alway input in str, if we want in Integer we want to convert."
   ]
  },
  {
   "cell_type": "code",
   "execution_count": 3,
   "id": "7c3ba1d4",
   "metadata": {},
   "outputs": [
    {
     "name": "stdout",
     "output_type": "stream",
     "text": [
      "123\n"
     ]
    }
   ],
   "source": [
    "a = int(input()) #called type Casted.\n",
    "b = 123"
   ]
  },
  {
   "cell_type": "code",
   "execution_count": 4,
   "id": "3736bced",
   "metadata": {},
   "outputs": [
    {
     "data": {
      "text/plain": [
       "246"
      ]
     },
     "execution_count": 4,
     "metadata": {},
     "output_type": "execute_result"
    }
   ],
   "source": [
    "a+b"
   ]
  },
  {
   "cell_type": "code",
   "execution_count": null,
   "id": "55d7ffbd",
   "metadata": {},
   "outputs": [],
   "source": []
  }
 ],
 "metadata": {
  "kernelspec": {
   "display_name": "Python 3 (ipykernel)",
   "language": "python",
   "name": "python3"
  },
  "language_info": {
   "codemirror_mode": {
    "name": "ipython",
    "version": 3
   },
   "file_extension": ".py",
   "mimetype": "text/x-python",
   "name": "python",
   "nbconvert_exporter": "python",
   "pygments_lexer": "ipython3",
   "version": "3.9.12"
  }
 },
 "nbformat": 4,
 "nbformat_minor": 5
}
