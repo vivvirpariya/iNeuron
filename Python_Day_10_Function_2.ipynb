{
 "cells": [
  {
   "cell_type": "code",
   "execution_count": 2,
   "id": "c75d4cca",
   "metadata": {},
   "outputs": [],
   "source": [
    "def test12(*vivek):\n",
    "    return  vivek"
   ]
  },
  {
   "cell_type": "code",
   "execution_count": 10,
   "id": "151bef7f",
   "metadata": {},
   "outputs": [],
   "source": [
    "def test13(*vivek, a):\n",
    "    return vivek, a"
   ]
  },
  {
   "cell_type": "code",
   "execution_count": 11,
   "id": "9be6b343",
   "metadata": {},
   "outputs": [
    {
     "data": {
      "text/plain": [
       "((45, 54, 56), 44444444444444444444444444456)"
      ]
     },
     "execution_count": 11,
     "metadata": {},
     "output_type": "execute_result"
    }
   ],
   "source": [
    "test13(45,54,56, a = 44444444444444444444444444456)"
   ]
  },
  {
   "cell_type": "code",
   "execution_count": 12,
   "id": "80b630fb",
   "metadata": {},
   "outputs": [],
   "source": [
    "def test4(*sudh,a,b,c,d):\n",
    "    return sudh, a,b,c,d"
   ]
  },
  {
   "cell_type": "code",
   "execution_count": 13,
   "id": "15546f69",
   "metadata": {},
   "outputs": [
    {
     "data": {
      "text/plain": [
       "((34, 46, 86), [4, 5, 9, 7], (4, 5, 8, 9), 'vivek', 'sfsfds')"
      ]
     },
     "execution_count": 13,
     "metadata": {},
     "output_type": "execute_result"
    }
   ],
   "source": [
    "test4(34,46,86, a=[4,5,9,7],b=(4,5,8,9), c = \"vivek\",d = \"sfsfds\")"
   ]
  },
  {
   "cell_type": "code",
   "execution_count": 14,
   "id": "76a3aa1d",
   "metadata": {},
   "outputs": [
    {
     "data": {
      "text/plain": [
       "((46, 86, [4, 5, 9, 7]), 34, (4, 5, 8, 9), 'vivek', 'sfsfds')"
      ]
     },
     "execution_count": 14,
     "metadata": {},
     "output_type": "execute_result"
    }
   ],
   "source": [
    "def test4(a,*sudh,b,c,d):\n",
    "    return sudh, a,b,c,d\n",
    "test4(34,46,86,[4,5,9,7],b=(4,5,8,9), c = \"vivek\",d = \"sfsfds\")"
   ]
  },
  {
   "cell_type": "code",
   "execution_count": 24,
   "id": "7e8ceeb6",
   "metadata": {},
   "outputs": [],
   "source": [
    "def test6(*args): #single star is key, output as tuples\n",
    "    l = []\n",
    "    for i in args:\n",
    "        if type(i) == list:\n",
    "            l.append(i)\n",
    "    return l"
   ]
  },
  {
   "cell_type": "code",
   "execution_count": 25,
   "id": "57d913e3",
   "metadata": {},
   "outputs": [
    {
     "data": {
      "text/plain": [
       "[[26, 65, 63], [32, 65, 45]]"
      ]
     },
     "execution_count": 25,
     "metadata": {},
     "output_type": "execute_result"
    }
   ],
   "source": [
    "test6(45,65,67,76,[26,65,63],[32,65,45])"
   ]
  },
  {
   "cell_type": "code",
   "execution_count": 26,
   "id": "6d0bde1c",
   "metadata": {},
   "outputs": [],
   "source": [
    "def test7(**kwargs): #key value pair, output as dict.\n",
    "    return kwargs"
   ]
  },
  {
   "cell_type": "code",
   "execution_count": 31,
   "id": "523081b1",
   "metadata": {},
   "outputs": [
    {
     "data": {
      "text/plain": [
       "{'a': 34, 'b': 65, 'c': 89, 'd': 79, 'e': 89, 'f': 7}"
      ]
     },
     "execution_count": 31,
     "metadata": {},
     "output_type": "execute_result"
    }
   ],
   "source": [
    "test7(a=34,b=65,c=89,d=79,e=89,f=7)"
   ]
  },
  {
   "cell_type": "code",
   "execution_count": 32,
   "id": "80cc3da9",
   "metadata": {},
   "outputs": [],
   "source": [
    "def test8(**sudh):\n",
    "    return sudh"
   ]
  },
  {
   "cell_type": "code",
   "execution_count": 33,
   "id": "6c3c6953",
   "metadata": {},
   "outputs": [
    {
     "data": {
      "text/plain": [
       "{'a': 34, 'b': 65, 'c': 89, 'd': 79, 'e': 89, 'f': 7}"
      ]
     },
     "execution_count": 33,
     "metadata": {},
     "output_type": "execute_result"
    }
   ],
   "source": [
    "test8(a=34,b=65,c=89,d=79,e=89,f=7)"
   ]
  },
  {
   "cell_type": "code",
   "execution_count": 37,
   "id": "564b6840",
   "metadata": {},
   "outputs": [],
   "source": [
    "def test10(a, **vivek):\n",
    "    return vivek,a"
   ]
  },
  {
   "cell_type": "code",
   "execution_count": 38,
   "id": "9764b054",
   "metadata": {},
   "outputs": [],
   "source": [
    "def test11(a, *sudh, **vivek):\n",
    "    return a, sudh, vivek"
   ]
  },
  {
   "cell_type": "code",
   "execution_count": 40,
   "id": "ca48e3f3",
   "metadata": {},
   "outputs": [
    {
     "data": {
      "text/plain": [
       "(45, (56, 67, 89, 56, 25), {'z': 52, 'y': 96})"
      ]
     },
     "execution_count": 40,
     "metadata": {},
     "output_type": "execute_result"
    }
   ],
   "source": [
    "test11(45,56,67,89,56,25, z=52,y=96)"
   ]
  },
  {
   "cell_type": "code",
   "execution_count": 41,
   "id": "6c53212a",
   "metadata": {},
   "outputs": [],
   "source": [
    "def test13(a,b): #when use complex function use def.\n",
    "    return a*b"
   ]
  },
  {
   "cell_type": "code",
   "execution_count": 42,
   "id": "b23f4f6b",
   "metadata": {},
   "outputs": [
    {
     "data": {
      "text/plain": [
       "2925"
      ]
     },
     "execution_count": 42,
     "metadata": {},
     "output_type": "execute_result"
    }
   ],
   "source": [
    "test13(45,65)"
   ]
  },
  {
   "cell_type": "code",
   "execution_count": 53,
   "id": "07675710",
   "metadata": {},
   "outputs": [],
   "source": [
    "a = lambda a,b: (a**b,a+b) #when required simple function use Lambda"
   ]
  },
  {
   "cell_type": "code",
   "execution_count": 55,
   "id": "91dd6103",
   "metadata": {},
   "outputs": [
    {
     "data": {
      "text/plain": [
       "(98526125335693359375, 32)"
      ]
     },
     "execution_count": 55,
     "metadata": {},
     "output_type": "execute_result"
    }
   ],
   "source": [
    "a(15,17)"
   ]
  },
  {
   "cell_type": "code",
   "execution_count": 63,
   "id": "2c5be3ce",
   "metadata": {},
   "outputs": [],
   "source": [
    "x = lambda x,y : ([i for  i in x],y)"
   ]
  },
  {
   "cell_type": "code",
   "execution_count": 61,
   "id": "bf1b537e",
   "metadata": {},
   "outputs": [
    {
     "data": {
      "text/plain": [
       "[4, 6, 6, 9, 6, 1213, 13, 13, 213, 1, 312, 3, 21321312]"
      ]
     },
     "execution_count": 61,
     "metadata": {},
     "output_type": "execute_result"
    }
   ],
   "source": [
    "x([4,6,6,9,6,1213,13,13,213,1,312,3,21321312], 535)"
   ]
  },
  {
   "cell_type": "code",
   "execution_count": 64,
   "id": "3e0a5ca2",
   "metadata": {},
   "outputs": [],
   "source": [
    "a = lambda **kwargs : kwargs"
   ]
  },
  {
   "cell_type": "code",
   "execution_count": 65,
   "id": "1d9675ba",
   "metadata": {},
   "outputs": [
    {
     "data": {
      "text/plain": [
       "{'a': 45, 'b': 56}"
      ]
     },
     "execution_count": 65,
     "metadata": {},
     "output_type": "execute_result"
    }
   ],
   "source": [
    "a(a =45, b=56)"
   ]
  },
  {
   "cell_type": "code",
   "execution_count": 75,
   "id": "bfde0c4d",
   "metadata": {},
   "outputs": [],
   "source": [
    "a = 10 #globle Data\n",
    "def test16(c,d):\n",
    "    c = 5 # Local Data\n",
    "    return c*d"
   ]
  },
  {
   "cell_type": "code",
   "execution_count": 80,
   "id": "b24be34d",
   "metadata": {},
   "outputs": [
    {
     "data": {
      "text/plain": [
       "500"
      ]
     },
     "execution_count": 80,
     "metadata": {},
     "output_type": "execute_result"
    }
   ],
   "source": [
    "test16(a,50)"
   ]
  },
  {
   "cell_type": "code",
   "execution_count": 105,
   "id": "bb603a87",
   "metadata": {},
   "outputs": [],
   "source": [
    "Z = [1,2,6,6,8]"
   ]
  },
  {
   "cell_type": "code",
   "execution_count": 106,
   "id": "73c980b3",
   "metadata": {},
   "outputs": [],
   "source": [
    "l2 = []\n",
    "for i in Z:\n",
    "    l2.append(i+2)"
   ]
  },
  {
   "cell_type": "code",
   "execution_count": 107,
   "id": "8593478e",
   "metadata": {},
   "outputs": [
    {
     "data": {
      "text/plain": [
       "[3, 4, 8, 8, 10]"
      ]
     },
     "execution_count": 107,
     "metadata": {},
     "output_type": "execute_result"
    }
   ],
   "source": [
    "l2"
   ]
  },
  {
   "cell_type": "code",
   "execution_count": 90,
   "id": "a2695afc",
   "metadata": {},
   "outputs": [
    {
     "data": {
      "text/plain": [
       "3"
      ]
     },
     "execution_count": 90,
     "metadata": {},
     "output_type": "execute_result"
    }
   ],
   "source": [
    "1+2"
   ]
  },
  {
   "cell_type": "code",
   "execution_count": 114,
   "id": "8653bfcb",
   "metadata": {},
   "outputs": [],
   "source": [
    "def test17(a):\n",
    "    l1 = []\n",
    "    for i in a:\n",
    "        l1.append(i+20)\n",
    "    return l1"
   ]
  },
  {
   "cell_type": "code",
   "execution_count": 121,
   "id": "f1313cef",
   "metadata": {},
   "outputs": [
    {
     "data": {
      "text/plain": [
       "[21, 22, 26, 26, 28]"
      ]
     },
     "execution_count": 121,
     "metadata": {},
     "output_type": "execute_result"
    }
   ],
   "source": [
    "test17(Z)"
   ]
  },
  {
   "cell_type": "code",
   "execution_count": 116,
   "id": "fe83d704",
   "metadata": {},
   "outputs": [],
   "source": [
    "a = lambda  a : [i+2 for i in a]\n"
   ]
  },
  {
   "cell_type": "code",
   "execution_count": 120,
   "id": "842e48e9",
   "metadata": {},
   "outputs": [
    {
     "data": {
      "text/plain": [
       "[3, 4, 8, 8, 10]"
      ]
     },
     "execution_count": 120,
     "metadata": {},
     "output_type": "execute_result"
    }
   ],
   "source": [
    "a(Z)"
   ]
  },
  {
   "cell_type": "code",
   "execution_count": 125,
   "id": "bc356031",
   "metadata": {},
   "outputs": [
    {
     "data": {
      "text/plain": [
       "[401, 402, 406, 406, 408]"
      ]
     },
     "execution_count": 125,
     "metadata": {},
     "output_type": "execute_result"
    }
   ],
   "source": [
    "[i+400 for i in Z]"
   ]
  },
  {
   "cell_type": "code",
   "execution_count": 129,
   "id": "68b9e155",
   "metadata": {},
   "outputs": [
    {
     "data": {
      "text/plain": [
       "[(1, 1), (2, 8)]"
      ]
     },
     "execution_count": 129,
     "metadata": {},
     "output_type": "execute_result"
    }
   ],
   "source": [
    "[(i,i**3) for i in Z if i <4] #also use Condition "
   ]
  },
  {
   "cell_type": "code",
   "execution_count": 137,
   "id": "5a256153",
   "metadata": {},
   "outputs": [],
   "source": [
    "Z1 = []\n",
    "for i in Z:\n",
    "    if i < 6:\n",
    "        Z1.append((i**2,i+i))"
   ]
  },
  {
   "cell_type": "code",
   "execution_count": 138,
   "id": "fef2a0bf",
   "metadata": {},
   "outputs": [
    {
     "data": {
      "text/plain": [
       "[(1, 2), (4, 4)]"
      ]
     },
     "execution_count": 138,
     "metadata": {},
     "output_type": "execute_result"
    }
   ],
   "source": [
    "Z1"
   ]
  },
  {
   "cell_type": "code",
   "execution_count": 139,
   "id": "1691088b",
   "metadata": {},
   "outputs": [],
   "source": [
    "d = {1:1,2:4,3:9}"
   ]
  },
  {
   "cell_type": "code",
   "execution_count": 143,
   "id": "0e58f6da",
   "metadata": {},
   "outputs": [
    {
     "data": {
      "text/plain": [
       "{0: 0, 1: 1, 2: 4, 3: 9, 4: 16}"
      ]
     },
     "execution_count": 143,
     "metadata": {},
     "output_type": "execute_result"
    }
   ],
   "source": [
    "{i:i**2 for i in range(5)}"
   ]
  },
  {
   "cell_type": "code",
   "execution_count": 144,
   "id": "5c4f230b",
   "metadata": {},
   "outputs": [],
   "source": [
    "d1 = {}\n",
    "for i in range(10):\n",
    "    d1[i] = i**2"
   ]
  },
  {
   "cell_type": "code",
   "execution_count": 146,
   "id": "1f7e223f",
   "metadata": {},
   "outputs": [
    {
     "data": {
      "text/plain": [
       "{0: 0, 1: 1, 2: 4, 3: 9, 4: 16, 5: 25, 6: 36, 7: 49, 8: 64, 9: 81}"
      ]
     },
     "execution_count": 146,
     "metadata": {},
     "output_type": "execute_result"
    }
   ],
   "source": [
    "d1"
   ]
  },
  {
   "cell_type": "code",
   "execution_count": 148,
   "id": "01f39fd6",
   "metadata": {},
   "outputs": [
    {
     "data": {
      "text/plain": [
       "(0, 1, 2, 3, 4, 5, 6, 7, 8, 9)"
      ]
     },
     "execution_count": 148,
     "metadata": {},
     "output_type": "execute_result"
    }
   ],
   "source": [
    "tuple(i for i in range (10))"
   ]
  },
  {
   "cell_type": "code",
   "execution_count": 149,
   "id": "3e4afe4a",
   "metadata": {},
   "outputs": [
    {
     "name": "stdout",
     "output_type": "stream",
     "text": [
      "s\n",
      "u\n",
      "d\n",
      "h\n"
     ]
    }
   ],
   "source": [
    "s = \"sudh\"\n",
    "for i in s:\n",
    "    print(i)"
   ]
  },
  {
   "cell_type": "code",
   "execution_count": 150,
   "id": "b45ae99a",
   "metadata": {},
   "outputs": [
    {
     "ename": "TypeError",
     "evalue": "'str' object is not an iterator",
     "output_type": "error",
     "traceback": [
      "\u001b[1;31m---------------------------------------------------------------------------\u001b[0m",
      "\u001b[1;31mTypeError\u001b[0m                                 Traceback (most recent call last)",
      "Input \u001b[1;32mIn [150]\u001b[0m, in \u001b[0;36m<cell line: 1>\u001b[1;34m()\u001b[0m\n\u001b[1;32m----> 1\u001b[0m \u001b[38;5;28;43mnext\u001b[39;49m\u001b[43m(\u001b[49m\u001b[43ms\u001b[49m\u001b[43m)\u001b[49m\n",
      "\u001b[1;31mTypeError\u001b[0m: 'str' object is not an iterator"
     ]
    }
   ],
   "source": [
    "next(s)"
   ]
  },
  {
   "cell_type": "code",
   "execution_count": 151,
   "id": "3749a8d0",
   "metadata": {},
   "outputs": [
    {
     "data": {
      "text/plain": [
       "'sudh'"
      ]
     },
     "execution_count": 151,
     "metadata": {},
     "output_type": "execute_result"
    }
   ],
   "source": [
    "s"
   ]
  },
  {
   "cell_type": "code",
   "execution_count": 152,
   "id": "6a9ea824",
   "metadata": {},
   "outputs": [],
   "source": [
    "b = iter(s)"
   ]
  },
  {
   "cell_type": "code",
   "execution_count": 153,
   "id": "581773a4",
   "metadata": {},
   "outputs": [
    {
     "data": {
      "text/plain": [
       "'s'"
      ]
     },
     "execution_count": 153,
     "metadata": {},
     "output_type": "execute_result"
    }
   ],
   "source": [
    "next(b)"
   ]
  },
  {
   "cell_type": "code",
   "execution_count": 157,
   "id": "31b20429",
   "metadata": {},
   "outputs": [
    {
     "data": {
      "text/plain": [
       "'u'"
      ]
     },
     "execution_count": 157,
     "metadata": {},
     "output_type": "execute_result"
    }
   ],
   "source": [
    "next(b)"
   ]
  },
  {
   "cell_type": "code",
   "execution_count": 158,
   "id": "318b9d7a",
   "metadata": {},
   "outputs": [
    {
     "data": {
      "text/plain": [
       "'d'"
      ]
     },
     "execution_count": 158,
     "metadata": {},
     "output_type": "execute_result"
    }
   ],
   "source": [
    "next(b)"
   ]
  },
  {
   "cell_type": "code",
   "execution_count": 160,
   "id": "551333fa",
   "metadata": {},
   "outputs": [
    {
     "data": {
      "text/plain": [
       "'h'"
      ]
     },
     "execution_count": 160,
     "metadata": {},
     "output_type": "execute_result"
    }
   ],
   "source": [
    "next(b)"
   ]
  },
  {
   "cell_type": "code",
   "execution_count": 162,
   "id": "513a3634",
   "metadata": {},
   "outputs": [],
   "source": [
    "l = [1,2,3,5,8,9] #not itrable but convert into in itrater"
   ]
  },
  {
   "cell_type": "code",
   "execution_count": 164,
   "id": "06bdb815",
   "metadata": {},
   "outputs": [
    {
     "ename": "TypeError",
     "evalue": "'list' object is not an iterator",
     "output_type": "error",
     "traceback": [
      "\u001b[1;31m---------------------------------------------------------------------------\u001b[0m",
      "\u001b[1;31mTypeError\u001b[0m                                 Traceback (most recent call last)",
      "Input \u001b[1;32mIn [164]\u001b[0m, in \u001b[0;36m<cell line: 1>\u001b[1;34m()\u001b[0m\n\u001b[1;32m----> 1\u001b[0m \u001b[38;5;28;43mnext\u001b[39;49m\u001b[43m(\u001b[49m\u001b[43ml\u001b[49m\u001b[43m)\u001b[49m\n",
      "\u001b[1;31mTypeError\u001b[0m: 'list' object is not an iterator"
     ]
    }
   ],
   "source": [
    "next(l)"
   ]
  },
  {
   "cell_type": "code",
   "execution_count": 167,
   "id": "96fbf063",
   "metadata": {},
   "outputs": [],
   "source": [
    "l = iter(l)"
   ]
  },
  {
   "cell_type": "code",
   "execution_count": 168,
   "id": "3ee004b4",
   "metadata": {},
   "outputs": [
    {
     "data": {
      "text/plain": [
       "1"
      ]
     },
     "execution_count": 168,
     "metadata": {},
     "output_type": "execute_result"
    }
   ],
   "source": [
    "next(l)"
   ]
  },
  {
   "cell_type": "code",
   "execution_count": 169,
   "id": "10bd1649",
   "metadata": {},
   "outputs": [
    {
     "data": {
      "text/plain": [
       "2"
      ]
     },
     "execution_count": 169,
     "metadata": {},
     "output_type": "execute_result"
    }
   ],
   "source": [
    "next(l)"
   ]
  },
  {
   "cell_type": "code",
   "execution_count": 170,
   "id": "0283fee4",
   "metadata": {},
   "outputs": [
    {
     "data": {
      "text/plain": [
       "3"
      ]
     },
     "execution_count": 170,
     "metadata": {},
     "output_type": "execute_result"
    }
   ],
   "source": [
    "next(l)"
   ]
  },
  {
   "cell_type": "code",
   "execution_count": 171,
   "id": "e802b8cf",
   "metadata": {},
   "outputs": [
    {
     "data": {
      "text/plain": [
       "5"
      ]
     },
     "execution_count": 171,
     "metadata": {},
     "output_type": "execute_result"
    }
   ],
   "source": [
    "next(l)"
   ]
  },
  {
   "cell_type": "code",
   "execution_count": 172,
   "id": "f89b2a7a",
   "metadata": {},
   "outputs": [
    {
     "data": {
      "text/plain": [
       "8"
      ]
     },
     "execution_count": 172,
     "metadata": {},
     "output_type": "execute_result"
    }
   ],
   "source": [
    "next(l)"
   ]
  },
  {
   "cell_type": "code",
   "execution_count": 173,
   "id": "73f4fe24",
   "metadata": {},
   "outputs": [
    {
     "data": {
      "text/plain": [
       "9"
      ]
     },
     "execution_count": 173,
     "metadata": {},
     "output_type": "execute_result"
    }
   ],
   "source": [
    "next(l)"
   ]
  },
  {
   "cell_type": "code",
   "execution_count": null,
   "id": "649cbfa3",
   "metadata": {},
   "outputs": [],
   "source": []
  },
  {
   "cell_type": "code",
   "execution_count": null,
   "id": "6cda4682",
   "metadata": {},
   "outputs": [],
   "source": []
  }
 ],
 "metadata": {
  "kernelspec": {
   "display_name": "Python 3 (ipykernel)",
   "language": "python",
   "name": "python3"
  },
  "language_info": {
   "codemirror_mode": {
    "name": "ipython",
    "version": 3
   },
   "file_extension": ".py",
   "mimetype": "text/x-python",
   "name": "python",
   "nbconvert_exporter": "python",
   "pygments_lexer": "ipython3",
   "version": "3.9.12"
  }
 },
 "nbformat": 4,
 "nbformat_minor": 5
}
