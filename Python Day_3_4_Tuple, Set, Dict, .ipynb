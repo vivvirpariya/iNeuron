{
 "cells": [
  {
   "cell_type": "code",
   "execution_count": 1,
   "id": "f9dcb850",
   "metadata": {},
   "outputs": [],
   "source": [
    "a = \"ineuron\""
   ]
  },
  {
   "cell_type": "code",
   "execution_count": 2,
   "id": "97e1a1ae",
   "metadata": {},
   "outputs": [
    {
     "data": {
      "text/plain": [
       "'ineuron'"
      ]
     },
     "execution_count": 2,
     "metadata": {},
     "output_type": "execute_result"
    }
   ],
   "source": [
    "a"
   ]
  },
  {
   "cell_type": "code",
   "execution_count": 3,
   "id": "dec85bed",
   "metadata": {},
   "outputs": [
    {
     "data": {
      "text/plain": [
       "'ineuron'"
      ]
     },
     "execution_count": 3,
     "metadata": {},
     "output_type": "execute_result"
    }
   ],
   "source": [
    "a[::] #by default"
   ]
  },
  {
   "cell_type": "code",
   "execution_count": 4,
   "id": "d632d0eb",
   "metadata": {},
   "outputs": [
    {
     "data": {
      "text/plain": [
       "'on'"
      ]
     },
     "execution_count": 4,
     "metadata": {},
     "output_type": "execute_result"
    }
   ],
   "source": [
    "a[-2:]"
   ]
  },
  {
   "cell_type": "code",
   "execution_count": 5,
   "id": "4ea6199b",
   "metadata": {},
   "outputs": [
    {
     "data": {
      "text/plain": [
       "'o'"
      ]
     },
     "execution_count": 5,
     "metadata": {},
     "output_type": "execute_result"
    }
   ],
   "source": [
    "a[-2:-1]"
   ]
  },
  {
   "cell_type": "code",
   "execution_count": 6,
   "id": "6f45e8f2",
   "metadata": {},
   "outputs": [
    {
     "data": {
      "text/plain": [
       "'ineuron'"
      ]
     },
     "execution_count": 6,
     "metadata": {},
     "output_type": "execute_result"
    }
   ],
   "source": [
    "a"
   ]
  },
  {
   "cell_type": "code",
   "execution_count": 7,
   "id": "09271227",
   "metadata": {},
   "outputs": [
    {
     "data": {
      "text/plain": [
       "'norueni'"
      ]
     },
     "execution_count": 7,
     "metadata": {},
     "output_type": "execute_result"
    }
   ],
   "source": [
    "a[::-1]"
   ]
  },
  {
   "cell_type": "code",
   "execution_count": 8,
   "id": "e4c076cf",
   "metadata": {},
   "outputs": [],
   "source": [
    "a = \"i am working with ineuron\""
   ]
  },
  {
   "cell_type": "code",
   "execution_count": 9,
   "id": "bceb44f3",
   "metadata": {},
   "outputs": [
    {
     "data": {
      "text/plain": [
       "'norueni htiw gnikrow ma i'"
      ]
     },
     "execution_count": 9,
     "metadata": {},
     "output_type": "execute_result"
    }
   ],
   "source": [
    "a[::-1]"
   ]
  },
  {
   "cell_type": "code",
   "execution_count": 10,
   "id": "31f06d59",
   "metadata": {},
   "outputs": [
    {
     "data": {
      "text/plain": [
       "''"
      ]
     },
     "execution_count": 10,
     "metadata": {},
     "output_type": "execute_result"
    }
   ],
   "source": [
    "a[-5:5]"
   ]
  },
  {
   "cell_type": "code",
   "execution_count": 11,
   "id": "2f3b4f83",
   "metadata": {},
   "outputs": [
    {
     "data": {
      "text/plain": [
       "'eni htiw gnikro'"
      ]
     },
     "execution_count": 11,
     "metadata": {},
     "output_type": "execute_result"
    }
   ],
   "source": [
    "a[-5:5:-1]"
   ]
  },
  {
   "cell_type": "code",
   "execution_count": 13,
   "id": "97d52010",
   "metadata": {},
   "outputs": [
    {
     "data": {
      "text/plain": [
       "'VivekVivekVivek'"
      ]
     },
     "execution_count": 13,
     "metadata": {},
     "output_type": "execute_result"
    }
   ],
   "source": [
    " \"Vivek\"*3 # multiplication opretor"
   ]
  },
  {
   "cell_type": "code",
   "execution_count": 14,
   "id": "e6e044aa",
   "metadata": {},
   "outputs": [
    {
     "data": {
      "text/plain": [
       "'vivekvivekvivekvivekvivekvivekvivekvivekvivekvivekvivekvivekvivekvivekvivekvivekvivekvivekvivekvivekvivekvivekvivekvivekvivekvivekvivekvivekvivekvivekvivekvivekvivekvivekvivekvivekvivekvivekvivekvivekvivekvivekvivekvivekvivekvivekvivekvivekvivekvivekvivekvivekvivekvivekvivekvivekvivekvivekvivekvivekvivekvivekvivekvivekvivekvivekvivekvivekvivekvivekvivekvivekvivekvivekvivekvivekvivekvivekvivekvivekvivekvivekvivekvivekvivekvivekvivekvivekvivekvivekvivekvivekvivekvivekvivekvivekvivekvivekvivekvivekvivekvivekvivekvivekvivekvivekvivekvivekvivekvivekvivekvivekvivekvivekvivekvivekvivekvivekvivekvivekvivekvivekvivekvivekvivekvivekvivekvivekvivekvivekvivekvivekvivekvivekvivekvivekvivekvivekvivekvivekvivekvivekvivekvivekvivekvivekvivekvivekvivekvivekvivekvivekvivekvivekvivekvivekvivekvivekvivekvivekvivekvivekvivekvivekvivekvivekvivekvivekvivekvivekvivekvivekvivekvivekvivekvivekvivekvivekvivekvivekvivekvivekvivekvivekvivekvivekvivekvivekvivekvivekvivekvivekvivekvivekvivekvivekvivekvivekvivekvivekvivekvivekvivekvivekvivekvivekvivekvivekvivekvivekvivekvivekvivekvivekvivekvivekvivekvivekvivekvivekvivekvivekvivekvivekvivekvivekvivekvivekvivekvivekvivekvivekvivekvivekvivekvivekvivekvivekvivekvivekvivekvivekvivekvivekvivekvivekvivekvivekvivekvivekvivekvivekvivekvivekvivekvivekvivekvivekvivekvivekvivekvivekvivekvivekvivekvivekvivekvivekvivekvivekvivekvivekvivekvivekvivekvivekvivekvivekvivekvivekvivekvivekvivekvivekvivekvivekvivekvivekvivekvivekvivekvivekvivekvivekvivekvivekvivekvivekvivekvivekvivekvivekvivekvivekvivekvivekvivekvivekvivekvivekvivekvivekvivekvivekvivekvivekvivekvivekvivekvivekvivekvivekvivekvivekvivekvivekvivekvivekvivekvivekvivekvivekvivekvivekvivekvivekvivekvivekvivekvivekvivekvivekvivekvivekvivekvivekvivekvivekvivekvivekvivekvivekvivekvivekvivekvivekvivekvivekvivekvivekvivekvivekvivekvivekvivekvivekvivekvivekvivekvivekvivekvivekvivekvivekvivekvivekvivekvivekvivekvivekvivekvivekvivekvivekvivekvivekvivekvivekvivekvivekvivekvivekvivekvivekvivekvivekvivekvivekvivekvivekvivekvivekvivekvivekvivekvivekvivekvivekvivekvivekvivekvivekvivekvivekvivekvivekvivekvivekvivekvivekvivekvivekvivekvivekvivekvivekvivekvivekvivekvivekvivekvivekvivekvivekvivekvivekvivekvivekvivekvivekvivekvivekvivekvivekvivekvivekvivekvivekvivekvivekvivekvivekvivekvivekvivekvivekvivekvivekvivekvivekvivekvivekvivekvivekvivekvivekvivekvivekvivekvivekvivekvivekvivekvivekvivekvivekvivekvivekvivekvivekvivekvivekvivekvivekvivekvivekvivekvivekvivekvivekvivekvivekvivekvivekvivekvivekvivekvivekvivekvivekvivekvivekvivekvivekvivekvivekvivekvivekvivekvivekvivekvivekvivekvivekvivekvivekvivekvivekvivekvivekvivekvivekvivekvivekvivekvivekvivekvivekvivekvivekvivekvivekvivekvivekvivekvivekvivekvivekvivekvivekvivekvivekvivekvivekvivekvivekvivekvivekvivekvivekvivekvivekvivekvivekvivekvivekvivekvivekvivekvivekvivekvivekvivekvivekvivekvivekvivekvivekvivekvivekvivekvivekvivekvivekvivekvivekvivekvivekvivekvivekvivekvivekvivekvivekvivekvivekvivekvivekvivekvivekvivekvivekvivekvivekvivekvivekvivekvivekvivekvivekvivekvivekvivekvivekvivekvivekvivekvivekvivekvivekvivekvivekvivekvivekvivekvivekvivekvivekvivekvivekvivekvivekvivekvivekvivekvivekvivekvivekvivekvivekvivekvivekvivekvivekvivekvivekvivekvivekvivekvivekvivekvivekvivekvivekvivekvivekvivekvivekvivekvivekvivekvivekvivekvivekvivekvivekvivekvivekvivekvivekvivekvivekvivekvivekvivekvivekvivekvivekvivekvivekvivekvivekvivekvivekvivekvivekvivekvivekvivekvivekvivekvivekvivekvivekvivekvivekvivekvivekvivekvivekvivekvivekvivekvivekvivekvivekvivekvivekvivekvivekvivekvivekvivekvivekvivekvivekvivekvivekvivekvivekvivekvivekvivekvivekvivekvivekvivekvivekvivekvivekvivekvivekvivekvivekvivekvivekvivekvivekvivekvivekvivekvivekvivekvivekvivekvivekvivekvivekvivekvivekvivekvivekvivekvivekvivekvivekvivekvivekvivekvivekvivekvivekvivekvivekvivekvivekvivekvivekvivekvivekvivekvivekvivekvivekvivekvivekvivekvivekvivekvivekvivekvivekvivekvivekvivekvivekvivekvivekvivekvivekvivekvivekvivekvivekvivekvivekvivekvivekvivekvivekvivekvivekvivekvivekvivekvivekvivekvivekvivekvivekvivekvivekvivekvivekvivekvivekvivekvivekvivekvivekvivekvivekvivekvivekvivekvivekvivekvivekvivekvivekvivekvivekvivekvivekvivekvivekvivekvivekvivekvivekvivekvivekvivekvivekvivekvivekvivekvivekvivekvivekvivekvivekvivekvivekvivekvivekvivekvivekvivekvivekvivekvivekvivekvivekvivekvivekvivekvivekvivekvivekvivekvivekvivekvivekvivekvivekvivekvivekvivekvivekvivekvivekvivekvivekvivekvivekvivekvivekvivekvivekvivekvivekvivekvivekvivekvivekvivekvivekvivekvivekvivekvivekvivekvivekvivekvivekvivekvivekvivekvivekvivekvivekvivekvivekvivekvivekvivekvivekvivekvivekvivekvivekvivekvivekvivekvivekvivekvivekvivekvivekvivekvivekvivekvivekvivekvivekvivekvivekvivekvivekvivekvivekvivekvivekvivekvivekvivekvivekvivekvivekvivekvivekvivekvivekvivekvivekvivekvivekvivekvivekvivekvivekvivekvivekvivekvivekvivekvivekvivekvivekvivekvivekvivekvivekvivekvivekvivekvivekvivekvivekvivekvivekvivekvivekvivekvivekvivekvivekvivekvivekvivekvivekvivekvivekvivekvivekvivekvivekvivekvivekvivekvivekvivekvivekvivekvivekvivekvivekvivekvivek'"
      ]
     },
     "execution_count": 14,
     "metadata": {},
     "output_type": "execute_result"
    }
   ],
   "source": [
    "\"vivek\"*1000"
   ]
  },
  {
   "cell_type": "code",
   "execution_count": 15,
   "id": "cb141cbc",
   "metadata": {},
   "outputs": [
    {
     "data": {
      "text/plain": [
       "'i am working with ineuron'"
      ]
     },
     "execution_count": 15,
     "metadata": {},
     "output_type": "execute_result"
    }
   ],
   "source": [
    "a"
   ]
  },
  {
   "cell_type": "code",
   "execution_count": 20,
   "id": "d0b07de7",
   "metadata": {},
   "outputs": [
    {
     "data": {
      "text/plain": [
       "75"
      ]
     },
     "execution_count": 20,
     "metadata": {},
     "output_type": "execute_result"
    }
   ],
   "source": [
    "len(a)*3"
   ]
  },
  {
   "cell_type": "code",
   "execution_count": 21,
   "id": "f84be4e7",
   "metadata": {},
   "outputs": [
    {
     "data": {
      "text/plain": [
       "'i am working with ineuron'"
      ]
     },
     "execution_count": 21,
     "metadata": {},
     "output_type": "execute_result"
    }
   ],
   "source": [
    "a"
   ]
  },
  {
   "cell_type": "code",
   "execution_count": 23,
   "id": "fe154ea4",
   "metadata": {},
   "outputs": [
    {
     "data": {
      "text/plain": [
       "2"
      ]
     },
     "execution_count": 23,
     "metadata": {},
     "output_type": "execute_result"
    }
   ],
   "source": [
    "a.find('a') #position find"
   ]
  },
  {
   "cell_type": "code",
   "execution_count": 24,
   "id": "9a7758f3",
   "metadata": {},
   "outputs": [
    {
     "data": {
      "text/plain": [
       "5"
      ]
     },
     "execution_count": 24,
     "metadata": {},
     "output_type": "execute_result"
    }
   ],
   "source": [
    "a.find('w')"
   ]
  },
  {
   "cell_type": "code",
   "execution_count": 25,
   "id": "5cbac591",
   "metadata": {},
   "outputs": [
    {
     "data": {
      "text/plain": [
       "0"
      ]
     },
     "execution_count": 25,
     "metadata": {},
     "output_type": "execute_result"
    }
   ],
   "source": [
    "a.find('i')"
   ]
  },
  {
   "cell_type": "code",
   "execution_count": 26,
   "id": "0c42090a",
   "metadata": {},
   "outputs": [
    {
     "data": {
      "text/plain": [
       "4"
      ]
     },
     "execution_count": 26,
     "metadata": {},
     "output_type": "execute_result"
    }
   ],
   "source": [
    "a.count('i')"
   ]
  },
  {
   "cell_type": "code",
   "execution_count": 27,
   "id": "f2b277ad",
   "metadata": {},
   "outputs": [
    {
     "data": {
      "text/plain": [
       "'i am working with ineuron'"
      ]
     },
     "execution_count": 27,
     "metadata": {},
     "output_type": "execute_result"
    }
   ],
   "source": [
    "a"
   ]
  },
  {
   "cell_type": "code",
   "execution_count": 28,
   "id": "cd8528aa",
   "metadata": {},
   "outputs": [
    {
     "data": {
      "text/plain": [
       "2"
      ]
     },
     "execution_count": 28,
     "metadata": {},
     "output_type": "execute_result"
    }
   ],
   "source": [
    "a.count('w')"
   ]
  },
  {
   "cell_type": "code",
   "execution_count": 29,
   "id": "cd5ca181",
   "metadata": {},
   "outputs": [
    {
     "data": {
      "text/plain": [
       "['i', 'am', 'working', 'with', 'ineuron']"
      ]
     },
     "execution_count": 29,
     "metadata": {},
     "output_type": "execute_result"
    }
   ],
   "source": [
    "a.split()"
   ]
  },
  {
   "cell_type": "code",
   "execution_count": 30,
   "id": "61ddae6b",
   "metadata": {},
   "outputs": [
    {
     "data": {
      "text/plain": [
       "'i am working with ineuron'"
      ]
     },
     "execution_count": 30,
     "metadata": {},
     "output_type": "execute_result"
    }
   ],
   "source": [
    "a"
   ]
  },
  {
   "cell_type": "code",
   "execution_count": 32,
   "id": "7e7d584c",
   "metadata": {},
   "outputs": [
    {
     "data": {
      "text/plain": [
       "list"
      ]
     },
     "execution_count": 32,
     "metadata": {},
     "output_type": "execute_result"
    }
   ],
   "source": [
    "type(a.split())"
   ]
  },
  {
   "cell_type": "code",
   "execution_count": 33,
   "id": "c9e220b4",
   "metadata": {},
   "outputs": [],
   "source": [
    "l = a.split() "
   ]
  },
  {
   "cell_type": "code",
   "execution_count": 36,
   "id": "c6f90d1b",
   "metadata": {},
   "outputs": [
    {
     "data": {
      "text/plain": [
       "5"
      ]
     },
     "execution_count": 36,
     "metadata": {},
     "output_type": "execute_result"
    }
   ],
   "source": [
    "len(l)"
   ]
  },
  {
   "cell_type": "code",
   "execution_count": 37,
   "id": "62d4f298",
   "metadata": {},
   "outputs": [
    {
     "data": {
      "text/plain": [
       "['i', 'am', 'working']"
      ]
     },
     "execution_count": 37,
     "metadata": {},
     "output_type": "execute_result"
    }
   ],
   "source": [
    "l[0:3]"
   ]
  },
  {
   "cell_type": "code",
   "execution_count": 39,
   "id": "d7a28c81",
   "metadata": {},
   "outputs": [
    {
     "data": {
      "text/plain": [
       "['', ' am work', 'ng w', 'th ', 'neuron']"
      ]
     },
     "execution_count": 39,
     "metadata": {},
     "output_type": "execute_result"
    }
   ],
   "source": [
    "a.split('i')"
   ]
  },
  {
   "cell_type": "code",
   "execution_count": 40,
   "id": "6645c25c",
   "metadata": {},
   "outputs": [
    {
     "data": {
      "text/plain": [
       "'i am working with ineuron'"
      ]
     },
     "execution_count": 40,
     "metadata": {},
     "output_type": "execute_result"
    }
   ],
   "source": [
    "a"
   ]
  },
  {
   "cell_type": "code",
   "execution_count": 42,
   "id": "fe6edbda",
   "metadata": {},
   "outputs": [
    {
     "data": {
      "text/plain": [
       "['i am ', 'rking with ineuron']"
      ]
     },
     "execution_count": 42,
     "metadata": {},
     "output_type": "execute_result"
    }
   ],
   "source": [
    "a.split('wo')"
   ]
  },
  {
   "cell_type": "code",
   "execution_count": 43,
   "id": "04d63100",
   "metadata": {},
   "outputs": [
    {
     "data": {
      "text/plain": [
       "'I AM WORKING WITH INEURON'"
      ]
     },
     "execution_count": 43,
     "metadata": {},
     "output_type": "execute_result"
    }
   ],
   "source": [
    "l = a.upper()"
   ]
  },
  {
   "cell_type": "code",
   "execution_count": 48,
   "id": "2a27229b",
   "metadata": {},
   "outputs": [],
   "source": [
    "b = 'vivek'"
   ]
  },
  {
   "cell_type": "code",
   "execution_count": 49,
   "id": "60371f55",
   "metadata": {},
   "outputs": [
    {
     "data": {
      "text/plain": [
       "'VIVEK'"
      ]
     },
     "execution_count": 49,
     "metadata": {},
     "output_type": "execute_result"
    }
   ],
   "source": [
    "b.swapcase()"
   ]
  },
  {
   "cell_type": "code",
   "execution_count": 50,
   "id": "694bd940",
   "metadata": {},
   "outputs": [],
   "source": [
    "c = \"vivek\"\n",
    "d = \"K\""
   ]
  },
  {
   "cell_type": "code",
   "execution_count": 52,
   "id": "255dcadc",
   "metadata": {},
   "outputs": [
    {
     "data": {
      "text/plain": [
       "'vKiKvKeKk'"
      ]
     },
     "execution_count": 52,
     "metadata": {},
     "output_type": "execute_result"
    }
   ],
   "source": [
    "d.join(c)"
   ]
  },
  {
   "cell_type": "code",
   "execution_count": 53,
   "id": "eef09ef0",
   "metadata": {},
   "outputs": [],
   "source": [
    "s = \"Vivek\""
   ]
  },
  {
   "cell_type": "code",
   "execution_count": 55,
   "id": "e56eb09c",
   "metadata": {},
   "outputs": [
    {
     "data": {
      "text/plain": [
       "'keviV'"
      ]
     },
     "execution_count": 55,
     "metadata": {},
     "output_type": "execute_result"
    }
   ],
   "source": [
    "s[::-1] # same as in for While Loop"
   ]
  },
  {
   "cell_type": "code",
   "execution_count": 56,
   "id": "83fa6b61",
   "metadata": {},
   "outputs": [
    {
     "data": {
      "text/plain": [
       "'i am working with ineuron'"
      ]
     },
     "execution_count": 56,
     "metadata": {},
     "output_type": "execute_result"
    }
   ],
   "source": [
    "a "
   ]
  },
  {
   "cell_type": "code",
   "execution_count": 59,
   "id": "d76b97ec",
   "metadata": {},
   "outputs": [],
   "source": [
    "a = \"  Vivek  \""
   ]
  },
  {
   "cell_type": "raw",
   "id": "88ea5a6e",
   "metadata": {},
   "source": []
  },
  {
   "cell_type": "code",
   "execution_count": 60,
   "id": "5ca10b7f",
   "metadata": {},
   "outputs": [
    {
     "data": {
      "text/plain": [
       "'  Vivek'"
      ]
     },
     "execution_count": 60,
     "metadata": {},
     "output_type": "execute_result"
    }
   ],
   "source": [
    "a.rstrip()"
   ]
  },
  {
   "cell_type": "code",
   "execution_count": 61,
   "id": "85d42a27",
   "metadata": {},
   "outputs": [
    {
     "data": {
      "text/plain": [
       "'Vivek  '"
      ]
     },
     "execution_count": 61,
     "metadata": {},
     "output_type": "execute_result"
    }
   ],
   "source": [
    "a.lstrip()"
   ]
  },
  {
   "cell_type": "code",
   "execution_count": 62,
   "id": "d732b6d7",
   "metadata": {},
   "outputs": [
    {
     "data": {
      "text/plain": [
       "'Vivek'"
      ]
     },
     "execution_count": 62,
     "metadata": {},
     "output_type": "execute_result"
    }
   ],
   "source": [
    "a.strip()"
   ]
  },
  {
   "cell_type": "code",
   "execution_count": 63,
   "id": "aa77dc25",
   "metadata": {},
   "outputs": [
    {
     "data": {
      "text/plain": [
       "'  Viabcek  '"
      ]
     },
     "execution_count": 63,
     "metadata": {},
     "output_type": "execute_result"
    }
   ],
   "source": [
    "a.replace(\"v\",\"abc\")"
   ]
  },
  {
   "cell_type": "code",
   "execution_count": 64,
   "id": "62d40f6f",
   "metadata": {},
   "outputs": [
    {
     "data": {
      "text/plain": [
       "'  Vivek  '"
      ]
     },
     "execution_count": 64,
     "metadata": {},
     "output_type": "execute_result"
    }
   ],
   "source": [
    "a.replace(\"t\",\"xyz\")"
   ]
  },
  {
   "cell_type": "code",
   "execution_count": 65,
   "id": "fbe41cd0",
   "metadata": {},
   "outputs": [
    {
     "data": {
      "text/plain": [
       "'vivek'"
      ]
     },
     "execution_count": 65,
     "metadata": {},
     "output_type": "execute_result"
    }
   ],
   "source": [
    "\"vivek\""
   ]
  },
  {
   "cell_type": "code",
   "execution_count": 67,
   "id": "e108933c",
   "metadata": {},
   "outputs": [
    {
     "data": {
      "text/plain": [
       "'  Vivek  '"
      ]
     },
     "execution_count": 67,
     "metadata": {},
     "output_type": "execute_result"
    }
   ],
   "source": [
    "a"
   ]
  },
  {
   "cell_type": "code",
   "execution_count": 69,
   "id": "7569ddae",
   "metadata": {},
   "outputs": [
    {
     "data": {
      "text/plain": [
       "'  Vivek  '"
      ]
     },
     "execution_count": 69,
     "metadata": {},
     "output_type": "execute_result"
    }
   ],
   "source": [
    "a"
   ]
  },
  {
   "cell_type": "code",
   "execution_count": 70,
   "id": "25310ffd",
   "metadata": {},
   "outputs": [
    {
     "data": {
      "text/plain": [
       "'  Vivek  '"
      ]
     },
     "execution_count": 70,
     "metadata": {},
     "output_type": "execute_result"
    }
   ],
   "source": [
    "a"
   ]
  },
  {
   "cell_type": "code",
   "execution_count": 71,
   "id": "b0833d56",
   "metadata": {},
   "outputs": [],
   "source": [
    "l = ['Vivek',345 , (45+5j),542.25, True]"
   ]
  },
  {
   "cell_type": "code",
   "execution_count": 72,
   "id": "c4ce7aec",
   "metadata": {},
   "outputs": [],
   "source": [
    "l1 = [2,5,6,4,9]"
   ]
  },
  {
   "cell_type": "code",
   "execution_count": 73,
   "id": "b44ebbcc",
   "metadata": {},
   "outputs": [],
   "source": [
    "t = ('Vivek',345 , (45+5j),542.25, True)"
   ]
  },
  {
   "cell_type": "code",
   "execution_count": 75,
   "id": "85f40728",
   "metadata": {},
   "outputs": [],
   "source": [
    "l[0] = 'Virpariya'"
   ]
  },
  {
   "cell_type": "code",
   "execution_count": 76,
   "id": "3b62bb31",
   "metadata": {},
   "outputs": [
    {
     "data": {
      "text/plain": [
       "['Virpariya', 345, (45+5j), 542.25, True]"
      ]
     },
     "execution_count": 76,
     "metadata": {},
     "output_type": "execute_result"
    }
   ],
   "source": [
    "l"
   ]
  },
  {
   "cell_type": "code",
   "execution_count": 77,
   "id": "a1a06f2d",
   "metadata": {},
   "outputs": [
    {
     "data": {
      "text/plain": [
       "('Vivek', 345, (45+5j), 542.25, True)"
      ]
     },
     "execution_count": 77,
     "metadata": {},
     "output_type": "execute_result"
    }
   ],
   "source": [
    "t"
   ]
  },
  {
   "cell_type": "code",
   "execution_count": 80,
   "id": "c2db9bfc",
   "metadata": {},
   "outputs": [
    {
     "data": {
      "text/plain": [
       "'Vivek'"
      ]
     },
     "execution_count": 80,
     "metadata": {},
     "output_type": "execute_result"
    }
   ],
   "source": [
    "t[0]"
   ]
  },
  {
   "cell_type": "code",
   "execution_count": 82,
   "id": "7ced125e",
   "metadata": {},
   "outputs": [],
   "source": [
    "t1 = ('Vivek', 345, (45+5j), 542.25, True)"
   ]
  },
  {
   "cell_type": "code",
   "execution_count": 83,
   "id": "355b4698",
   "metadata": {},
   "outputs": [
    {
     "data": {
      "text/plain": [
       "('Vivek', 345, (45+5j), 542.25, True, 'Vivek', 345, (45+5j), 542.25, True)"
      ]
     },
     "execution_count": 83,
     "metadata": {},
     "output_type": "execute_result"
    }
   ],
   "source": [
    "t + t1"
   ]
  },
  {
   "cell_type": "code",
   "execution_count": 84,
   "id": "cf5da9dd",
   "metadata": {},
   "outputs": [
    {
     "data": {
      "text/plain": [
       "['Virpariya', 345, (45+5j), 542.25, True, 2, 5, 6, 4, 9]"
      ]
     },
     "execution_count": 84,
     "metadata": {},
     "output_type": "execute_result"
    }
   ],
   "source": [
    "l + l1"
   ]
  },
  {
   "cell_type": "code",
   "execution_count": 88,
   "id": "8a13a43e",
   "metadata": {},
   "outputs": [
    {
     "data": {
      "text/plain": [
       "('Vivek', 345, (45+5j), 542.25, True)"
      ]
     },
     "execution_count": 88,
     "metadata": {},
     "output_type": "execute_result"
    }
   ],
   "source": [
    "t1*1"
   ]
  },
  {
   "cell_type": "code",
   "execution_count": 90,
   "id": "52ad193e",
   "metadata": {},
   "outputs": [],
   "source": [
    "s2 = {1,2,2,3,4,3,56,65,3235,2,2,358,2,32,3,5}"
   ]
  },
  {
   "cell_type": "code",
   "execution_count": 91,
   "id": "4535c44e",
   "metadata": {},
   "outputs": [
    {
     "data": {
      "text/plain": [
       "{1, 2, 3, 4, 5, 32, 56, 65, 358, 3235}"
      ]
     },
     "execution_count": 91,
     "metadata": {},
     "output_type": "execute_result"
    }
   ],
   "source": [
    "s2"
   ]
  },
  {
   "cell_type": "code",
   "execution_count": 93,
   "id": "8c8ec3ab",
   "metadata": {},
   "outputs": [],
   "source": [
    "s2.add('sudh')"
   ]
  },
  {
   "cell_type": "code",
   "execution_count": 94,
   "id": "b7f9a1da",
   "metadata": {},
   "outputs": [
    {
     "data": {
      "text/plain": [
       "{1, 2, 3, 32, 3235, 358, 4, 5, 56, 65, 'sudh'}"
      ]
     },
     "execution_count": 94,
     "metadata": {},
     "output_type": "execute_result"
    }
   ],
   "source": [
    "s2"
   ]
  },
  {
   "cell_type": "code",
   "execution_count": 95,
   "id": "6c66f044",
   "metadata": {},
   "outputs": [],
   "source": [
    "s2.remove(4)"
   ]
  },
  {
   "cell_type": "code",
   "execution_count": 96,
   "id": "db359dc9",
   "metadata": {},
   "outputs": [
    {
     "data": {
      "text/plain": [
       "{1, 2, 3, 32, 3235, 358, 5, 56, 65, 'sudh'}"
      ]
     },
     "execution_count": 96,
     "metadata": {},
     "output_type": "execute_result"
    }
   ],
   "source": [
    "s2"
   ]
  },
  {
   "cell_type": "code",
   "execution_count": 99,
   "id": "66685df7",
   "metadata": {},
   "outputs": [],
   "source": [
    "s2.discard(45)"
   ]
  },
  {
   "cell_type": "code",
   "execution_count": 100,
   "id": "bf774392",
   "metadata": {},
   "outputs": [
    {
     "data": {
      "text/plain": [
       "{1, 2, 3, 32, 3235, 358, 56, 65, 'sudh'}"
      ]
     },
     "execution_count": 100,
     "metadata": {},
     "output_type": "execute_result"
    }
   ],
   "source": [
    "s2"
   ]
  },
  {
   "cell_type": "code",
   "execution_count": 101,
   "id": "c2f92fe5",
   "metadata": {},
   "outputs": [],
   "source": [
    "s3 = {'Sudh','sudh'}"
   ]
  },
  {
   "cell_type": "code",
   "execution_count": 102,
   "id": "4dd7d8f7",
   "metadata": {},
   "outputs": [
    {
     "data": {
      "text/plain": [
       "{'Sudh', 'sudh'}"
      ]
     },
     "execution_count": 102,
     "metadata": {},
     "output_type": "execute_result"
    }
   ],
   "source": [
    "s3"
   ]
  },
  {
   "cell_type": "code",
   "execution_count": 107,
   "id": "8857fe16",
   "metadata": {},
   "outputs": [],
   "source": [
    "d = {3,4}\n",
    "d1 = {4:'sudh'}"
   ]
  },
  {
   "cell_type": "code",
   "execution_count": 108,
   "id": "a5a1ca0f",
   "metadata": {},
   "outputs": [
    {
     "data": {
      "text/plain": [
       "{3, 4}"
      ]
     },
     "execution_count": 108,
     "metadata": {},
     "output_type": "execute_result"
    }
   ],
   "source": [
    "d"
   ]
  },
  {
   "cell_type": "code",
   "execution_count": 109,
   "id": "e1e7721d",
   "metadata": {},
   "outputs": [],
   "source": [
    "d2 = {'key1':5442,'key2':\"sudh\",'key3':[3,4,5,6]}"
   ]
  },
  {
   "cell_type": "code",
   "execution_count": 110,
   "id": "23d33c02",
   "metadata": {},
   "outputs": [],
   "source": [
    "l = [3,4,5,6,7]"
   ]
  },
  {
   "cell_type": "code",
   "execution_count": 111,
   "id": "a4c3515e",
   "metadata": {},
   "outputs": [
    {
     "data": {
      "text/plain": [
       "{'key1': 5442, 'key2': 'sudh', 'key3': [3, 4, 5, 6]}"
      ]
     },
     "execution_count": 111,
     "metadata": {},
     "output_type": "execute_result"
    }
   ],
   "source": [
    "d2"
   ]
  },
  {
   "cell_type": "code",
   "execution_count": 112,
   "id": "69a11466",
   "metadata": {},
   "outputs": [
    {
     "data": {
      "text/plain": [
       "3"
      ]
     },
     "execution_count": 112,
     "metadata": {},
     "output_type": "execute_result"
    }
   ],
   "source": [
    "l[0]"
   ]
  },
  {
   "cell_type": "code",
   "execution_count": 113,
   "id": "6a5b485b",
   "metadata": {},
   "outputs": [
    {
     "data": {
      "text/plain": [
       "5442"
      ]
     },
     "execution_count": 113,
     "metadata": {},
     "output_type": "execute_result"
    }
   ],
   "source": [
    "d2['key1']"
   ]
  },
  {
   "cell_type": "code",
   "execution_count": 115,
   "id": "1111290a",
   "metadata": {},
   "outputs": [
    {
     "data": {
      "text/plain": [
       "[3, 4, 5, 6]"
      ]
     },
     "execution_count": 115,
     "metadata": {},
     "output_type": "execute_result"
    }
   ],
   "source": [
    "d2['key3']"
   ]
  },
  {
   "cell_type": "code",
   "execution_count": 118,
   "id": "e85ec019",
   "metadata": {},
   "outputs": [],
   "source": [
    "d3 = {'key10': \"Vivek\", 'key11':345, 'key12':(45+5j), 'key13': 542.25, 'key14': True}"
   ]
  },
  {
   "cell_type": "code",
   "execution_count": 119,
   "id": "7104e7bf",
   "metadata": {},
   "outputs": [
    {
     "data": {
      "text/plain": [
       "{'key10': 'Vivek',\n",
       " 'key11': 345,\n",
       " 'key12': (45+5j),\n",
       " 'key13': 542.25,\n",
       " 'key14': True}"
      ]
     },
     "execution_count": 119,
     "metadata": {},
     "output_type": "execute_result"
    }
   ],
   "source": [
    "d3"
   ]
  },
  {
   "cell_type": "code",
   "execution_count": 120,
   "id": "488fb8f3",
   "metadata": {},
   "outputs": [
    {
     "data": {
      "text/plain": [
       "'Vivek'"
      ]
     },
     "execution_count": 120,
     "metadata": {},
     "output_type": "execute_result"
    }
   ],
   "source": [
    "d3.get('key10')"
   ]
  },
  {
   "cell_type": "code",
   "execution_count": 121,
   "id": "21218ba6",
   "metadata": {},
   "outputs": [],
   "source": [
    "d3.get('45')"
   ]
  },
  {
   "cell_type": "code",
   "execution_count": 122,
   "id": "13b02674",
   "metadata": {},
   "outputs": [],
   "source": [
    "d4 = {'key1':\"ineuron\",'key2':\"vivek\"}"
   ]
  },
  {
   "cell_type": "code",
   "execution_count": 123,
   "id": "a38b2212",
   "metadata": {},
   "outputs": [],
   "source": [
    "d5 = {'key3':\"What\", 'key4':\"Who\"}"
   ]
  },
  {
   "cell_type": "code",
   "execution_count": 124,
   "id": "610290f4",
   "metadata": {},
   "outputs": [],
   "source": [
    "d4.update(d5)"
   ]
  },
  {
   "cell_type": "code",
   "execution_count": 125,
   "id": "a0fc032a",
   "metadata": {},
   "outputs": [
    {
     "data": {
      "text/plain": [
       "{'key1': 'ineuron', 'key2': 'vivek', 'key3': 'What', 'key4': 'Who'}"
      ]
     },
     "execution_count": 125,
     "metadata": {},
     "output_type": "execute_result"
    }
   ],
   "source": [
    "d4"
   ]
  },
  {
   "cell_type": "code",
   "execution_count": null,
   "id": "59c04947",
   "metadata": {},
   "outputs": [],
   "source": []
  }
 ],
 "metadata": {
  "kernelspec": {
   "display_name": "Python 3 (ipykernel)",
   "language": "python",
   "name": "python3"
  },
  "language_info": {
   "codemirror_mode": {
    "name": "ipython",
    "version": 3
   },
   "file_extension": ".py",
   "mimetype": "text/x-python",
   "name": "python",
   "nbconvert_exporter": "python",
   "pygments_lexer": "ipython3",
   "version": "3.9.12"
  }
 },
 "nbformat": 4,
 "nbformat_minor": 5
}
