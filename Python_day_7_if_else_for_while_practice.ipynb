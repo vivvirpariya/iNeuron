{
 "cells": [
  {
   "cell_type": "code",
   "execution_count": 2,
   "id": "7290370a",
   "metadata": {},
   "outputs": [
    {
     "data": {
      "text/plain": [
       "26"
      ]
     },
     "execution_count": 2,
     "metadata": {},
     "output_type": "execute_result"
    }
   ],
   "source": [
    "s = \"this is python basic class\"\n",
    "len(s)"
   ]
  },
  {
   "cell_type": "code",
   "execution_count": 5,
   "id": "5d07f095",
   "metadata": {},
   "outputs": [
    {
     "name": "stdout",
     "output_type": "stream",
     "text": [
      "26\n"
     ]
    }
   ],
   "source": [
    "count = 0\n",
    "for i in s:\n",
    "    #count = count + 1 (both meaning are same.)\n",
    "    count+=1\n",
    "print(count)"
   ]
  },
  {
   "cell_type": "code",
   "execution_count": 6,
   "id": "810f023f",
   "metadata": {},
   "outputs": [
    {
     "data": {
      "text/plain": [
       "'ssalc cisab nohtyp si siht'"
      ]
     },
     "execution_count": 6,
     "metadata": {},
     "output_type": "execute_result"
    }
   ],
   "source": [
    "s[::-1]"
   ]
  },
  {
   "cell_type": "code",
   "execution_count": 7,
   "id": "428377c1",
   "metadata": {},
   "outputs": [
    {
     "name": "stdout",
     "output_type": "stream",
     "text": [
      "s\n",
      "s\n",
      "a\n",
      "l\n",
      "c\n",
      " \n",
      "c\n",
      "i\n",
      "s\n",
      "a\n",
      "b\n",
      " \n",
      "n\n",
      "o\n",
      "h\n",
      "t\n",
      "y\n",
      "p\n",
      " \n",
      "s\n",
      "i\n",
      " \n",
      "s\n",
      "i\n",
      "h\n",
      "t\n"
     ]
    }
   ],
   "source": [
    "for i in range(len(s)-1,-1,-1):\n",
    "    #           26-1=25(start),-1(end),-1(jump)\n",
    "    print(s[i])"
   ]
  },
  {
   "cell_type": "code",
   "execution_count": 15,
   "id": "ed787eb0",
   "metadata": {},
   "outputs": [
    {
     "name": "stdout",
     "output_type": "stream",
     "text": [
      "ssalc cisab nohtyp si siht"
     ]
    }
   ],
   "source": [
    "# how write in reversed\n",
    "i = len(s)-1 \n",
    "while(i>=0):\n",
    "    print(s[i],end=\"\")\n",
    "    i-=1 #this is short form of i = i - 1"
   ]
  },
  {
   "cell_type": "code",
   "execution_count": 12,
   "id": "9480eb5e",
   "metadata": {},
   "outputs": [
    {
     "data": {
      "text/plain": [
       "'this is python basic class'"
      ]
     },
     "execution_count": 12,
     "metadata": {},
     "output_type": "execute_result"
    }
   ],
   "source": [
    "s"
   ]
  },
  {
   "cell_type": "code",
   "execution_count": 25,
   "id": "07af9fba",
   "metadata": {},
   "outputs": [
    {
     "name": "stdout",
     "output_type": "stream",
     "text": [
      "vowel:      i\n",
      "not vowel:  n\n",
      "vowel:      e\n",
      "vowel:      u\n",
      "not vowel:  r\n",
      "vowel:      o\n",
      "not vowel:  n\n"
     ]
    }
   ],
   "source": [
    "s = \"ineuron\"\n",
    "v = \"AaEeIiOoUu\"\n",
    "for i in s:\n",
    "    if i in v:\n",
    "        print(\"vowel:     \",i)\n",
    "    else:\n",
    "        print(\"not vowel: \", i)"
   ]
  },
  {
   "cell_type": "code",
   "execution_count": null,
   "id": "b52fa292",
   "metadata": {},
   "outputs": [],
   "source": [
    "for i in a:\n",
    "    if i in b:\n",
    "        print(i)\n",
    "    else:\n",
    "        print(i)"
   ]
  },
  {
   "cell_type": "code",
   "execution_count": 21,
   "id": "7813f0cd",
   "metadata": {},
   "outputs": [
    {
     "data": {
      "text/plain": [
       "True"
      ]
     },
     "execution_count": 21,
     "metadata": {},
     "output_type": "execute_result"
    }
   ],
   "source": [
    "\"u\" in \"sudh\""
   ]
  },
  {
   "cell_type": "code",
   "execution_count": 22,
   "id": "3c5ecced",
   "metadata": {},
   "outputs": [
    {
     "data": {
      "text/plain": [
       "False"
      ]
     },
     "execution_count": 22,
     "metadata": {},
     "output_type": "execute_result"
    }
   ],
   "source": [
    "\"g\" in \"sudh\""
   ]
  },
  {
   "cell_type": "code",
   "execution_count": 28,
   "id": "d40ab2ab",
   "metadata": {},
   "outputs": [
    {
     "data": {
      "text/plain": [
       "'eye'"
      ]
     },
     "execution_count": 28,
     "metadata": {},
     "output_type": "execute_result"
    }
   ],
   "source": [
    "#Que : Check Palindrom or not??\n",
    "a = \"tnent\"\n",
    "b = \"malayalam\"\n",
    "c = \"eye\""
   ]
  },
  {
   "cell_type": "code",
   "execution_count": 5,
   "id": "2c53a702",
   "metadata": {},
   "outputs": [
    {
     "name": "stdout",
     "output_type": "stream",
     "text": [
      "eye\n",
      "Pallindrome: eye\n"
     ]
    }
   ],
   "source": [
    "#Good Logic - Ans1\n",
    "s = input()\n",
    "v = s[::-1]\n",
    "if s == v:\n",
    "    print(\"Pallindrome:\",s)\n",
    "else:\n",
    "    print(\"Not a Pallindrome:\",s)"
   ]
  },
  {
   "cell_type": "code",
   "execution_count": 8,
   "id": "b9de4885",
   "metadata": {},
   "outputs": [
    {
     "name": "stdout",
     "output_type": "stream",
     "text": [
      "vivek\n",
      "vivek Not palendrom\n"
     ]
    }
   ],
   "source": [
    "#Ans-2 (also Good one)\n",
    "word = input()\n",
    "for i in range(len(word)):\n",
    "    if word[i] != word[len(word)-1-i]:  #!= (not Equal to)  \n",
    "        print(word, \"Not palendrom\")\n",
    "        break\n",
    "    else:\n",
    "        print(word,\"palendrom\")"
   ]
  },
  {
   "cell_type": "code",
   "execution_count": 5,
   "id": "7256978e",
   "metadata": {},
   "outputs": [
    {
     "name": "stdout",
     "output_type": "stream",
     "text": [
      "eyee\n",
      "not a palindrome\n"
     ]
    }
   ],
   "source": [
    "#Ans - 3\n",
    "s1=input()\n",
    "f=\"\"\n",
    "i=len(s1)-1\n",
    "\n",
    "while (i>=0):\n",
    "    f=f+s1[i]\n",
    "    i=i-1\n",
    "if(s1==f):\n",
    "    print(\"palindrome\")\n",
    "else:\n",
    "    print(\"not a palindrome\")"
   ]
  },
  {
   "cell_type": "code",
   "execution_count": 1,
   "id": "4ffce386",
   "metadata": {},
   "outputs": [
    {
     "name": "stdout",
     "output_type": "stream",
     "text": [
      "vivek\n",
      "Non palindrome\n"
     ]
    }
   ],
   "source": [
    "#ans - 4\n",
    "s = input()\n",
    "l = len(s)\n",
    "k=0\n",
    "for i in range(l):\n",
    "    if s[i]==s[l-i-1]:\n",
    "        continue\n",
    "    else:\n",
    "        print(\"Non palindrome\")\n",
    "        k=1\n",
    "        break\n",
    "if k==0:\n",
    "    print(\"palindrome\")"
   ]
  },
  {
   "cell_type": "code",
   "execution_count": 5,
   "id": "abe24d71",
   "metadata": {},
   "outputs": [
    {
     "name": "stdout",
     "output_type": "stream",
     "text": [
      "YES is it a Part of Dict\n"
     ]
    }
   ],
   "source": [
    "d = {\"INDIA\":\"IN\", \"CANADA\":\"CA\",\"CHINA\":\"CH\",\"UNITED STATE\":\"US\"}\n",
    "#solution 1\n",
    "for i in \"INDIA\":\n",
    "    print(\"YES is it a Part of Dict\")\n",
    "    break"
   ]
  },
  {
   "cell_type": "code",
   "execution_count": 7,
   "id": "ac17bb39",
   "metadata": {},
   "outputs": [
    {
     "ename": "SyntaxError",
     "evalue": "invalid syntax (874520175.py, line 3)",
     "output_type": "error",
     "traceback": [
      "\u001b[1;36m  Input \u001b[1;32mIn [7]\u001b[1;36m\u001b[0m\n\u001b[1;33m    \"greater then 5\"[]\u001b[0m\n\u001b[1;37m                     ^\u001b[0m\n\u001b[1;31mSyntaxError\u001b[0m\u001b[1;31m:\u001b[0m invalid syntax\n"
     ]
    }
   ],
   "source": [
    "for i in d:\n",
    "    if (len(d)>5):\n",
    "        \"greater then 5\"[]\n",
    "        print(i)\n",
    "    else (len(d)<5):\n",
    "        \"less then 5\""
   ]
  },
  {
   "cell_type": "code",
   "execution_count": 8,
   "id": "df064ac8",
   "metadata": {},
   "outputs": [
    {
     "data": {
      "text/plain": [
       "True"
      ]
     },
     "execution_count": 8,
     "metadata": {},
     "output_type": "execute_result"
    }
   ],
   "source": [
    "#solution 2\n",
    "\"INDIA\" in d"
   ]
  },
  {
   "cell_type": "code",
   "execution_count": 9,
   "id": "3b17097c",
   "metadata": {},
   "outputs": [],
   "source": [
    "L_greater = []\n",
    "L_smaller = []\n",
    "for i in d:\n",
    "    if len(i)<=5:\n",
    "        L_smaller.append(i)\n",
    "    else :\n",
    "        L_greater.append(i)"
   ]
  },
  {
   "cell_type": "code",
   "execution_count": 10,
   "id": "f696ebb7",
   "metadata": {},
   "outputs": [
    {
     "data": {
      "text/plain": [
       "['CANADA', 'UNITED STATE']"
      ]
     },
     "execution_count": 10,
     "metadata": {},
     "output_type": "execute_result"
    }
   ],
   "source": [
    "L_greater"
   ]
  },
  {
   "cell_type": "code",
   "execution_count": 11,
   "id": "5c1974b4",
   "metadata": {},
   "outputs": [
    {
     "data": {
      "text/plain": [
       "['INDIA', 'CHINA']"
      ]
     },
     "execution_count": 11,
     "metadata": {},
     "output_type": "execute_result"
    }
   ],
   "source": [
    "L_smaller"
   ]
  },
  {
   "cell_type": "code",
   "execution_count": 26,
   "id": "4c885016",
   "metadata": {},
   "outputs": [
    {
     "name": "stdout",
     "output_type": "stream",
     "text": [
      "14\n",
      "45\n"
     ]
    }
   ],
   "source": [
    "d12 = {\"ineruon\":{\"a\":14,\"b\":10,\"c\":4},\n",
    "       \"course\":{\"d\":45,\"e\":34,\"f\":1}\n",
    "      }\n",
    "#solution\n",
    "lst =[]\n",
    "for i in d12.values():\n",
    "    for j in i.values():\n",
    "        lst.append(j)\n",
    "    print(max(lst))\n",
    "  "
   ]
  },
  {
   "cell_type": "code",
   "execution_count": 27,
   "id": "0b735608",
   "metadata": {},
   "outputs": [
    {
     "name": "stdout",
     "output_type": "stream",
     "text": [
      "{'a': 14, 'b': 10, 'c': 4}\n",
      "{'d': 45, 'e': 34, 'f': 1}\n"
     ]
    }
   ],
   "source": [
    "for i in d12.values():\n",
    "    print(i)"
   ]
  },
  {
   "cell_type": "code",
   "execution_count": 28,
   "id": "aada0286",
   "metadata": {},
   "outputs": [
    {
     "name": "stdout",
     "output_type": "stream",
     "text": [
      "14\n",
      "10\n",
      "4\n",
      "45\n",
      "34\n",
      "1\n"
     ]
    }
   ],
   "source": [
    "for i in d12.values():\n",
    "    for j in i.values():\n",
    "        print(j)"
   ]
  },
  {
   "cell_type": "code",
   "execution_count": 29,
   "id": "8930bd7c",
   "metadata": {},
   "outputs": [],
   "source": [
    "for i in d12.values():\n",
    "    for j in i.values():\n",
    "        lst.append(j)"
   ]
  },
  {
   "cell_type": "code",
   "execution_count": 30,
   "id": "044a064c",
   "metadata": {},
   "outputs": [
    {
     "data": {
      "text/plain": [
       "[14, 10, 4, 45, 34, 1, 14, 10, 4, 45, 34, 1]"
      ]
     },
     "execution_count": 30,
     "metadata": {},
     "output_type": "execute_result"
    }
   ],
   "source": [
    "lst"
   ]
  },
  {
   "cell_type": "code",
   "execution_count": 33,
   "id": "9d93126e",
   "metadata": {},
   "outputs": [
    {
     "name": "stdout",
     "output_type": "stream",
     "text": [
      "14\n",
      "45\n"
     ]
    }
   ],
   "source": [
    "#MAX Value\n",
    "for i in d12.values():\n",
    "    \n",
    "    mx = 0\n",
    "    for j in i.values():\n",
    "        if mx<j:\n",
    "            mx = j\n",
    "    print(mx)"
   ]
  },
  {
   "cell_type": "code",
   "execution_count": 35,
   "id": "5e366975",
   "metadata": {},
   "outputs": [
    {
     "name": "stdout",
     "output_type": "stream",
     "text": [
      "14\n",
      "45\n"
     ]
    }
   ],
   "source": [
    "for i in d12.keys():\n",
    "    print(max(d12[i].values()))"
   ]
  },
  {
   "cell_type": "code",
   "execution_count": 36,
   "id": "9f771307",
   "metadata": {},
   "outputs": [
    {
     "data": {
      "text/plain": [
       "{'ineruon': {'a': 14, 'b': 10, 'c': 4}, 'course': {'d': 45, 'e': 34, 'f': 1}}"
      ]
     },
     "execution_count": 36,
     "metadata": {},
     "output_type": "execute_result"
    }
   ],
   "source": [
    "d12"
   ]
  },
  {
   "cell_type": "code",
   "execution_count": 39,
   "id": "441942dc",
   "metadata": {},
   "outputs": [
    {
     "name": "stdout",
     "output_type": "stream",
     "text": [
      "14\n",
      "45\n"
     ]
    }
   ],
   "source": [
    "for i in d12.keys():\n",
    "    #print(i)\n",
    "    print(max(d12[i].values()))"
   ]
  },
  {
   "cell_type": "code",
   "execution_count": 69,
   "id": "25b53e0c",
   "metadata": {},
   "outputs": [],
   "source": [
    "d25 = {\"ineruon\":{\"a\":14,\"b\":10,\"c\":4},\n",
    "       \"course\":{\"d\":45,\"e\":34,\"f\":1},\n",
    "       \"g\":34,\n",
    "       \"h\":[45,6,7,8,9,3],\n",
    "       \"i\":(45,34,2),\n",
    "       \"k\":\"sudh\"\n",
    "      }"
   ]
  },
  {
   "cell_type": "code",
   "execution_count": 3,
   "id": "6266e52f",
   "metadata": {},
   "outputs": [
    {
     "ename": "NameError",
     "evalue": "name 'd25' is not defined",
     "output_type": "error",
     "traceback": [
      "\u001b[1;31m---------------------------------------------------------------------------\u001b[0m",
      "\u001b[1;31mNameError\u001b[0m                                 Traceback (most recent call last)",
      "Input \u001b[1;32mIn [3]\u001b[0m, in \u001b[0;36m<cell line: 3>\u001b[1;34m()\u001b[0m\n\u001b[0;32m      1\u001b[0m \u001b[38;5;66;03m#MAX INT. (idealy Good Only)\u001b[39;00m\n\u001b[0;32m      2\u001b[0m a \u001b[38;5;241m=\u001b[39m []\n\u001b[1;32m----> 3\u001b[0m \u001b[38;5;28;01mfor\u001b[39;00m i \u001b[38;5;129;01min\u001b[39;00m \u001b[43md25\u001b[49m\u001b[38;5;241m.\u001b[39mvalues():\n\u001b[0;32m      4\u001b[0m     \u001b[38;5;28;01mif\u001b[39;00m \u001b[38;5;28mtype\u001b[39m(i) \u001b[38;5;241m==\u001b[39m \u001b[38;5;28mdict\u001b[39m:\n\u001b[0;32m      5\u001b[0m         a\u001b[38;5;241m.\u001b[39mappend(\u001b[38;5;28mmax\u001b[39m(i\u001b[38;5;241m.\u001b[39mvalues()))\n",
      "\u001b[1;31mNameError\u001b[0m: name 'd25' is not defined"
     ]
    }
   ],
   "source": [
    "#MAX INT. (idealy Good Only)\n",
    "a = []\n",
    "for i in d25.values():\n",
    "    if type(i) == dict:\n",
    "        a.append(max(i.values()))\n",
    "    elif type(i)==list:\n",
    "        a.append(max(i))\n",
    "    elif type(i)==tuple:\n",
    "        a.append(max(i))\n",
    "    elif type(i) == str:\n",
    "        pass\n",
    "    else:\n",
    "        a.append(i)\n",
    "print(max(a))\n",
    "        "
   ]
  },
  {
   "cell_type": "code",
   "execution_count": 2,
   "id": "feb6b945",
   "metadata": {},
   "outputs": [
    {
     "ename": "NameError",
     "evalue": "name 'd' is not defined",
     "output_type": "error",
     "traceback": [
      "\u001b[1;31m---------------------------------------------------------------------------\u001b[0m",
      "\u001b[1;31mNameError\u001b[0m                                 Traceback (most recent call last)",
      "Input \u001b[1;32mIn [2]\u001b[0m, in \u001b[0;36m<cell line: 1>\u001b[1;34m()\u001b[0m\n\u001b[1;32m----> 1\u001b[0m \u001b[43md\u001b[49m\n",
      "\u001b[1;31mNameError\u001b[0m: name 'd' is not defined"
     ]
    }
   ],
   "source": [
    "d"
   ]
  },
  {
   "cell_type": "code",
   "execution_count": 13,
   "id": "2462796c",
   "metadata": {},
   "outputs": [
    {
     "name": "stdout",
     "output_type": "stream",
     "text": [
      "[3, 5, 6, 11, 17]\n"
     ]
    }
   ],
   "source": [
    "a = [1,3,4,9,15]\n",
    "l = []\n",
    "for i in a:\n",
    "    l.append(i+2)\n",
    "print(l)"
   ]
  },
  {
   "cell_type": "code",
   "execution_count": 14,
   "id": "f41da6f3",
   "metadata": {},
   "outputs": [
    {
     "name": "stdout",
     "output_type": "stream",
     "text": [
      "1\n",
      "2\n",
      "8\n",
      "9\n",
      "15\n"
     ]
    }
   ],
   "source": [
    "a = [1,2,8,9,15]\n",
    "for i in a:\n",
    "    "
   ]
  },
  {
   "cell_type": "code",
   "execution_count": null,
   "id": "08b11b93",
   "metadata": {},
   "outputs": [],
   "source": []
  }
 ],
 "metadata": {
  "kernelspec": {
   "display_name": "Python 3 (ipykernel)",
   "language": "python",
   "name": "python3"
  },
  "language_info": {
   "codemirror_mode": {
    "name": "ipython",
    "version": 3
   },
   "file_extension": ".py",
   "mimetype": "text/x-python",
   "name": "python",
   "nbconvert_exporter": "python",
   "pygments_lexer": "ipython3",
   "version": "3.9.12"
  }
 },
 "nbformat": 4,
 "nbformat_minor": 5
}
