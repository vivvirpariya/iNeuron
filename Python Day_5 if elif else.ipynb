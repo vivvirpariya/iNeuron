{
 "cells": [
  {
   "cell_type": "code",
   "execution_count": 1,
   "id": "e8e4e827",
   "metadata": {},
   "outputs": [
    {
     "name": "stdout",
     "output_type": "stream",
     "text": [
      "5\n",
      "it will take 3 month of time for transition \n"
     ]
    }
   ],
   "source": [
    "study_hour = int(input())\n",
    "if study_hour < 1:\n",
    "    print(\"it may take 8-9 month of time to make a transition\")\n",
    "elif study_hour < 4 and study_hour > 1:\n",
    "    print(\"it may take 6 month for transition\")\n",
    "elif study_hour < 10:\n",
    "    print(\"it will take 3 month of time for transition \")\n",
    "else :\n",
    "    print(\"it will be difficult\")"
   ]
  },
  {
   "cell_type": "code",
   "execution_count": 2,
   "id": "7d6a63de",
   "metadata": {},
   "outputs": [
    {
     "data": {
      "text/plain": [
       "3"
      ]
     },
     "execution_count": 2,
     "metadata": {},
     "output_type": "execute_result"
    }
   ],
   "source": [
    "1+2"
   ]
  },
  {
   "cell_type": "code",
   "execution_count": 8,
   "id": "ea0cddd5",
   "metadata": {},
   "outputs": [
    {
     "name": "stdout",
     "output_type": "stream",
     "text": [
      "Enter String to start oneneourononeneouron\n",
      "Enter Course Nameadd\n",
      "Enter Service nameworkwithus\n",
      "kindly connect with our team\n"
     ]
    }
   ],
   "source": [
    "s = input(\"Enter String to start oneneouron\")\n",
    "course = input(\"Enter Course Name\")\n",
    "service = input(\"Enter Service name\")\n",
    "if s == \"oneneuron\":\n",
    "    if course == \"DSA\":\n",
    "        print(\"yes its available under one neouron and in multiple mode for job prepration and core concept \")\n",
    "    elif course == \"Blockchain\":\n",
    "        print(\"this is not availble as of now , kindly raise your demand and we will fulfil in 60 days\")\n",
    "    elif course == \"FSDS\":\n",
    "        print(\"yes its availble, you can start learning\")\n",
    "    else :\n",
    "        print(\"this course is not available kindly raise your demand\")\n",
    "elif s == \"oneneouronservice\":\n",
    "    if service == \"courserequest\":\n",
    "        print(\"*Note: Dear Learner, you can raise demand related to any new course, and we will fulfill in 24 hours \")\n",
    "    elif service == \"module\":\n",
    "        print(\"*Note: Dear Learner, you can raise demand related to any module, and we will fulfil in 12 hours\")\n",
    "    elif service == \"doubt\":\n",
    "        print(\"*Note:  Dear Learner, you can raise demand related to any double, and we will fulfil in 6 hours\")\n",
    "    elif service == \"workwithus\":\n",
    "        print(\"*Note:  Dear Learner, you can raise demand related to any Work with our team, Our HR will contact you soon\")\n",
    "    else :\n",
    "        print(\"kindly provide us your feedback and we will fulfil\")\n",
    "else :\n",
    "    print(\"kindly connect with our team\")\n",
    "    "
   ]
  },
  {
   "cell_type": "raw",
   "id": "d6e81b2b",
   "metadata": {},
   "source": [
    "1+2"
   ]
  },
  {
   "cell_type": "code",
   "execution_count": null,
   "id": "8adff083",
   "metadata": {},
   "outputs": [],
   "source": []
  }
 ],
 "metadata": {
  "celltoolbar": "Tags",
  "kernelspec": {
   "display_name": "Python 3 (ipykernel)",
   "language": "python",
   "name": "python3"
  },
  "language_info": {
   "codemirror_mode": {
    "name": "ipython",
    "version": 3
   },
   "file_extension": ".py",
   "mimetype": "text/x-python",
   "name": "python",
   "nbconvert_exporter": "python",
   "pygments_lexer": "ipython3",
   "version": "3.9.12"
  }
 },
 "nbformat": 4,
 "nbformat_minor": 5
}
