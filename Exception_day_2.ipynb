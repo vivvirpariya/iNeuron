{
 "cells": [
  {
   "cell_type": "code",
   "execution_count": 2,
   "id": "c2cf3faf",
   "metadata": {},
   "outputs": [
    {
     "name": "stdout",
     "output_type": "stream",
     "text": [
      "12\n",
      "13\n",
      "Please Check Process, Some Error with your Process\n"
     ]
    }
   ],
   "source": [
    "try :\n",
    "    a = int(input())\n",
    "    b = int(input())\n",
    "except Exception as e:\n",
    "    print(e)\n",
    "print(\"Please Check Process, Some Error with your Process\")"
   ]
  },
  {
   "cell_type": "code",
   "execution_count": 5,
   "id": "502d514b",
   "metadata": {},
   "outputs": [
    {
     "name": "stdout",
     "output_type": "stream",
     "text": [
      "abc\n"
     ]
    }
   ],
   "source": [
    "print(\"abc\")"
   ]
  },
  {
   "cell_type": "code",
   "execution_count": 19,
   "id": "8a01b224",
   "metadata": {},
   "outputs": [
    {
     "data": {
      "text/plain": [
       "35"
      ]
     },
     "execution_count": 19,
     "metadata": {},
     "output_type": "execute_result"
    }
   ],
   "source": [
    "f = open(\"test123.txt\",'w')\n",
    "f.write(\"this is my code with expce handling\")"
   ]
  },
  {
   "cell_type": "code",
   "execution_count": 14,
   "id": "3a2c573c",
   "metadata": {},
   "outputs": [
    {
     "name": "stdout",
     "output_type": "stream",
     "text": [
      " Volume in drive C has no label.\n",
      " Volume Serial Number is A2B5-ABA6\n",
      "\n",
      " Directory of C:\\Users\\Vivek Virpariya\n",
      "\n",
      "17-08-2022  15:53    <DIR>          .\n",
      "17-08-2022  15:53    <DIR>          ..\n",
      "17-08-2022  15:48    <DIR>          .ipynb_checkpoints\n",
      "07-08-2022  01:20    <DIR>          .ipython\n",
      "13-08-2022  17:07    <DIR>          .jupyter\n",
      "06-06-2022  16:29    <DIR>          3D Objects\n",
      "06-06-2022  16:29    <DIR>          Contacts\n",
      "17-08-2022  09:43    <DIR>          Desktop\n",
      "14-08-2022  13:10    <DIR>          Documents\n",
      "17-08-2022  15:47    <DIR>          Downloads\n",
      "17-08-2022  15:50            10,164 Exception handling class 1.ipynb\n",
      "17-08-2022  11:28             8,069 Exception_Most_IMP.ipynb\n",
      "06-06-2022  16:29    <DIR>          Favorites\n",
      "16-08-2022  21:06            15,558 Generator.ipynb\n",
      "16-08-2022  21:45                 0 google.txt\n",
      "07-08-2022  01:36             4,560 iNeuron Class.ipynb\n",
      "06-06-2022  16:29    <DIR>          Links\n",
      "06-06-2022  16:29    <DIR>          Music\n",
      "06-06-2022  16:33    <DIR>          OneDrive\n",
      "07-07-2022  18:37    <DIR>          Pictures\n",
      "27-07-2022  18:50    <DIR>          PycharmProjects\n",
      "07-08-2022  16:56            15,506 Python Day_1.ipynb\n",
      "11-08-2022  17:58             9,695 Python Day_2.ipynb\n",
      "13-08-2022  14:54            30,603 Python Day_3_4_Tuple, Set, Dict, .ipynb\n",
      "13-08-2022  17:07             3,735 Python Day_5 if elif else.ipynb\n",
      "13-08-2022  16:05             6,491 Python Day_5.ipynb\n",
      "13-08-2022  23:18            17,000 python Day_5_forloop_whileloop.ipynb\n",
      "16-08-2022  16:21            19,055 Python_Day_10_Function_2.ipynb\n",
      "14-08-2022  14:27           280,493 Python_Day_7_8_forloop_&_whileloop.ipynb\n",
      "14-08-2022  22:13            16,621 Python_day_7_if_else_for_while_practice.ipynb\n",
      "16-08-2022  14:41            13,289 Python_day_9_Function.ipynb\n",
      "06-06-2022  16:29    <DIR>          Saved Games\n",
      "06-06-2022  16:32    <DIR>          Searches\n",
      "17-08-2022  11:04                 6 test.txt\n",
      "16-08-2022  21:04                11 test1.txt\n",
      "16-08-2022  21:04                49 test2.txt\n",
      "14-08-2022  13:13    <DIR>          Tracing\n",
      "07-08-2022  16:07                72 Untitled.ipynb\n",
      "14-08-2022  21:35               589 Untitled1.ipynb\n",
      "12-08-2022  18:38                72 Untitled2.ipynb\n",
      "16-08-2022  22:38             6,371 Untitled3.ipynb\n",
      "17-08-2022  15:53             2,065 Untitled4.ipynb\n",
      "10-06-2022  17:23    <DIR>          Videos\n",
      "              23 File(s)        460,074 bytes\n",
      "              20 Dir(s)  203,887,976,448 bytes free\n"
     ]
    }
   ],
   "source": [
    "f.close(\"test1\")"
   ]
  },
  {
   "cell_type": "code",
   "execution_count": 22,
   "id": "fee1a1cb",
   "metadata": {},
   "outputs": [
    {
     "name": "stdout",
     "output_type": "stream",
     "text": [
      "this is my code after write ops\n",
      "1\n",
      "2\n",
      "3\n",
      "4\n",
      "5\n"
     ]
    }
   ],
   "source": [
    "try :\n",
    "    f = open(\"test1.txt\",\"w\")\n",
    "    f.write(\"this is my code with exception handling\")\n",
    "    print(\"this is my code after write ops\")\n",
    "except:\n",
    "    print(\"this is my handler\")\n",
    "try:\n",
    "    l = [1,2,3,4,5]\n",
    "    for i in l:\n",
    "        print(i)\n",
    "except :\n",
    "    print(\"this is a handler for loop\")\n"
   ]
  },
  {
   "cell_type": "code",
   "execution_count": 27,
   "id": "fb55896a",
   "metadata": {},
   "outputs": [
    {
     "name": "stdout",
     "output_type": "stream",
     "text": [
      "12\n"
     ]
    }
   ],
   "source": [
    "try:\n",
    "    d = {\"key1\": \"sudh\", \"key2\": [1,2,3,4,5,6], \"key3\":(4,5,67,7,76)}\n",
    "    d[\"key4\"] = int(input()) #Value Error :\n",
    "except Exception as h: #exception is a super class.\n",
    "    print(h)"
   ]
  },
  {
   "cell_type": "code",
   "execution_count": 28,
   "id": "132f09aa",
   "metadata": {},
   "outputs": [
    {
     "data": {
      "text/plain": [
       "{'key1': 'sudh',\n",
       " 'key2': [1, 2, 3, 4, 5, 6],\n",
       " 'key3': (4, 5, 67, 7, 76),\n",
       " 'key4': 12}"
      ]
     },
     "execution_count": 28,
     "metadata": {},
     "output_type": "execute_result"
    }
   ],
   "source": [
    "d"
   ]
  },
  {
   "cell_type": "code",
   "execution_count": 30,
   "id": "a570206f",
   "metadata": {},
   "outputs": [
    {
     "name": "stdout",
     "output_type": "stream",
     "text": [
      "vhjf\n",
      "invalid literal for int() with base 10: 'vhjf'\n"
     ]
    }
   ],
   "source": [
    "try:\n",
    "    d = {\"key1\": \"sudh\", \"key2\": [1,2,3,4,5,6], \"key3\":(4,5,67,7,76)}\n",
    "    d[\"key4\"] = int(input()) #Value Error\n",
    "except ValueError as h: #Value Error  is a sub class. all error in Superclass.\n",
    "    print(h)"
   ]
  },
  {
   "cell_type": "code",
   "execution_count": 33,
   "id": "954c2ed9",
   "metadata": {},
   "outputs": [
    {
     "name": "stdout",
     "output_type": "stream",
     "text": [
      "5465\n",
      "[Errno 2] No such file or directory: 'test2'\n"
     ]
    }
   ],
   "source": [
    "try:\n",
    "    d = {\"key1\": \"sudh\", \"key2\": [1,2,3,4,5,6], \"key3\":(4,5,67,7,76)}\n",
    "    d[\"key4\"] = int(input()) #Value Error\n",
    "    f = open(\"test2\", \"r\")\n",
    "except FileNotFoundError  as h: #Value Error  is a sub class. all error in Superclass.\n",
    "    print(h)"
   ]
  },
  {
   "cell_type": "code",
   "execution_count": 41,
   "id": "39c84a63",
   "metadata": {},
   "outputs": [
    {
     "name": "stdout",
     "output_type": "stream",
     "text": [
      "fdf\n",
      "invalid literal for int() with base 10: 'fdf'\n"
     ]
    }
   ],
   "source": [
    "try:\n",
    "    d = {\"key1\": \"sudh\", \"key2\": [1,2,3,4,5,6], \"key3\":(4,5,67,7,76)}\n",
    "    d[\"key4\"] = int(input())\n",
    "    f = open(\"test2\",\"r\")\n",
    "except ValueError as h: #Sub Class.\n",
    "    print(h)\n",
    "except FileNotFoundError as e: # Sub Class\n",
    "    print(e)\n",
    "except Exception as ee: #Gaint Class : Super Class, Parent Class\n",
    "    print(\"this is my exception class\", ee)\n",
    "    \n",
    "#If want to Use Error Specifically, then use in Sequenc"
   ]
  },
  {
   "cell_type": "code",
   "execution_count": 3,
   "id": "7beabab2",
   "metadata": {},
   "outputs": [
    {
     "name": "stdout",
     "output_type": "stream",
     "text": [
      "this will execute once my try block will be \n"
     ]
    }
   ],
   "source": [
    "#try is Excecutade then and then only Else Executade.\n",
    "try:\n",
    "    f = open(\"test1.txt\", \"w\")\n",
    "    f.write(\"this is my code in try \")\n",
    "except Exceptionas as e :\n",
    "    print(\"this will handle an error \",e)\n",
    "else:\n",
    "    print(\"this will execute once my try block will be \")\n",
    "    "
   ]
  },
  {
   "cell_type": "code",
   "execution_count": 8,
   "id": "1fc879e2",
   "metadata": {},
   "outputs": [
    {
     "name": "stdout",
     "output_type": "stream",
     "text": [
      "do this on succesfull eectution for try block \n",
      "do this for sure\n",
      "handle this\n",
      "it will come to this block for sure \n"
     ]
    }
   ],
   "source": [
    "try :\n",
    "    f = open (\"test2.txt\",'w')\n",
    "except Exception as e:\n",
    "    print(\"laksjdhf\",e)\n",
    "else:\n",
    "    print(\"do this on succesfull eectution for try block \")\n",
    "finally: #finally print is sure is it failed or is it suceed.\n",
    "    print(\"do this for sure\")\n",
    "    \n",
    "    try:    \n",
    "        f = open (\"dfsfhjgfkjhds\",'r')\n",
    "    except :\n",
    "        print(\"handle this\")\n",
    "    finally:\n",
    "        print(\"it will come to this block for sure \")"
   ]
  },
  {
   "cell_type": "code",
   "execution_count": 12,
   "id": "55122a05",
   "metadata": {},
   "outputs": [],
   "source": [
    "def askint():\n",
    "    try:\n",
    "        a = int(input())\n",
    "        return a\n",
    "    except Exception as e:\n",
    "        print(\"this is my input error \", e)"
   ]
  },
  {
   "cell_type": "code",
   "execution_count": 14,
   "id": "8596cc7b",
   "metadata": {},
   "outputs": [
    {
     "name": "stdout",
     "output_type": "stream",
     "text": [
      "sjgda\n",
      "this is my input error  invalid literal for int() with base 10: 'sjgda'\n"
     ]
    }
   ],
   "source": [
    "askint()"
   ]
  },
  {
   "cell_type": "code",
   "execution_count": 24,
   "id": "4d3c5337",
   "metadata": {},
   "outputs": [
    {
     "ename": "IndentationError",
     "evalue": "expected an indented block (2660281445.py, line 10)",
     "output_type": "error",
     "traceback": [
      "\u001b[1;36m  Input \u001b[1;32mIn [24]\u001b[1;36m\u001b[0m\n\u001b[1;33m    a = int(input())\u001b[0m\n\u001b[1;37m    ^\u001b[0m\n\u001b[1;31mIndentationError\u001b[0m\u001b[1;31m:\u001b[0m expected an indented block\n"
     ]
    }
   ],
   "source": [
    "def askint():\n",
    "    try:\n",
    "        a = int(input())\n",
    "        return a\n",
    "    except Exception as e:\n",
    "        print(\"this is my input error \", e)\n",
    "    finally:\n",
    "        print(\"Enter a Valid Input\")\n",
    "        if a == int:\n",
    "        a = int(input())\n",
    "        break\n",
    "        return a\n",
    "                "
   ]
  },
  {
   "cell_type": "code",
   "execution_count": 26,
   "id": "307c7179",
   "metadata": {},
   "outputs": [
    {
     "name": "stdout",
     "output_type": "stream",
     "text": [
      "enter the int:jfajdfd\n",
      "Nah, you did not enter an integer, please enter an interger. Error: invalid literal for int() with base 10: 'jfajdfd'\n",
      "enter the int:dshfjds f\n",
      "Nah, you did not enter an integer, please enter an interger. Error: invalid literal for int() with base 10: 'dshfjds f'\n",
      "enter the int:dshfjdf\n",
      "Nah, you did not enter an integer, please enter an interger. Error: invalid literal for int() with base 10: 'dshfjdf'\n",
      "enter the int:124\n"
     ]
    },
    {
     "data": {
      "text/plain": [
       "'yes, you have entered an integer'"
      ]
     },
     "execution_count": 26,
     "metadata": {},
     "output_type": "execute_result"
    }
   ],
   "source": [
    "#Option:1\n",
    "def fun1():\n",
    "    flag = True\n",
    "    while flag:\n",
    "        try:\n",
    "            a = int(input(\"enter the int:\"))\n",
    "            if type(a) == int:\n",
    "                return \"yes, you have entered an integer\"\n",
    "                flag = False\n",
    "                \n",
    "        except Exception as e:\n",
    "                print(\"Nah, you did not enter an integer, please enter an interger. Error:\", e)\n",
    "                \n",
    "fun1()"
   ]
  },
  {
   "cell_type": "code",
   "execution_count": 28,
   "id": "8973f70d",
   "metadata": {},
   "outputs": [
    {
     "name": "stdout",
     "output_type": "stream",
     "text": [
      "15\n",
      "Thank you\n"
     ]
    }
   ],
   "source": [
    "def integer():\n",
    "    while True:\n",
    "        \"\"\"Function asks for an integer unless provided otherwise\"\"\"\n",
    "        try:\n",
    "            x = int(input())\n",
    "            print(\"Thank you\")\n",
    "            break\n",
    "        except ValueError as e:\n",
    "            print(\"enter the input again\", e)\n",
    "integer()"
   ]
  },
  {
   "cell_type": "code",
   "execution_count": 34,
   "id": "e23599ac",
   "metadata": {},
   "outputs": [],
   "source": [
    "def test(a):\n",
    "    if a < 0:\n",
    "        raise Exception(\"you have entered a Negetive Value\", a) #keyword Exception Super Class at.\n",
    "    return a"
   ]
  },
  {
   "cell_type": "code",
   "execution_count": 35,
   "id": "6dedd2ac",
   "metadata": {},
   "outputs": [
    {
     "ename": "NameError",
     "evalue": "name 'Exceptin' is not defined",
     "output_type": "error",
     "traceback": [
      "\u001b[1;31m---------------------------------------------------------------------------\u001b[0m",
      "\u001b[1;31mNameError\u001b[0m                                 Traceback (most recent call last)",
      "Input \u001b[1;32mIn [35]\u001b[0m, in \u001b[0;36m<cell line: 1>\u001b[1;34m()\u001b[0m\n\u001b[1;32m----> 1\u001b[0m \u001b[43mtest\u001b[49m\u001b[43m(\u001b[49m\u001b[38;5;241;43m-\u001b[39;49m\u001b[38;5;241;43m4\u001b[39;49m\u001b[43m)\u001b[49m\n",
      "Input \u001b[1;32mIn [34]\u001b[0m, in \u001b[0;36mtest\u001b[1;34m(a)\u001b[0m\n\u001b[0;32m      1\u001b[0m \u001b[38;5;28;01mdef\u001b[39;00m \u001b[38;5;21mtest\u001b[39m(a):\n\u001b[0;32m      2\u001b[0m     \u001b[38;5;28;01mif\u001b[39;00m a \u001b[38;5;241m<\u001b[39m \u001b[38;5;241m0\u001b[39m:\n\u001b[1;32m----> 3\u001b[0m         \u001b[38;5;28;01mraise\u001b[39;00m \u001b[43mExceptin\u001b[49m(\u001b[38;5;124m\"\u001b[39m\u001b[38;5;124myou have entered a Negetive Value\u001b[39m\u001b[38;5;124m\"\u001b[39m, a) \u001b[38;5;66;03m#keyword Exception Super Class at.\u001b[39;00m\n\u001b[0;32m      4\u001b[0m     \u001b[38;5;28;01mreturn\u001b[39;00m a\n",
      "\u001b[1;31mNameError\u001b[0m: name 'Exceptin' is not defined"
     ]
    }
   ],
   "source": [
    "test(-4)"
   ]
  },
  {
   "cell_type": "code",
   "execution_count": 38,
   "id": "5cd0ea8f",
   "metadata": {},
   "outputs": [],
   "source": [
    "g = open(\"ghjdsjgf.txt\",\"w\")"
   ]
  },
  {
   "cell_type": "code",
   "execution_count": null,
   "id": "80ec36be",
   "metadata": {},
   "outputs": [],
   "source": [
    "def test(a):\n",
    "    if a == \"sudh\":\n",
    "        raise ZeroDivisionError"
   ]
  }
 ],
 "metadata": {
  "kernelspec": {
   "display_name": "Python 3 (ipykernel)",
   "language": "python",
   "name": "python3"
  },
  "language_info": {
   "codemirror_mode": {
    "name": "ipython",
    "version": 3
   },
   "file_extension": ".py",
   "mimetype": "text/x-python",
   "name": "python",
   "nbconvert_exporter": "python",
   "pygments_lexer": "ipython3",
   "version": "3.9.12"
  }
 },
 "nbformat": 4,
 "nbformat_minor": 5
}
