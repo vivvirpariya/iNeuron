{
 "cells": [
  {
   "cell_type": "code",
   "execution_count": 1,
   "id": "b80db4c8",
   "metadata": {},
   "outputs": [
    {
     "data": {
      "text/plain": [
       "5"
      ]
     },
     "execution_count": 1,
     "metadata": {},
     "output_type": "execute_result"
    }
   ],
   "source": [
    "len(\"sudhh\")"
   ]
  },
  {
   "cell_type": "code",
   "execution_count": 2,
   "id": "2d715974",
   "metadata": {},
   "outputs": [
    {
     "name": "stdout",
     "output_type": "stream",
     "text": [
      "ssdfjdskfhkdf\n"
     ]
    }
   ],
   "source": [
    "print(\"ssdfjdskfhkdf\")"
   ]
  },
  {
   "cell_type": "code",
   "execution_count": 4,
   "id": "811b896d",
   "metadata": {},
   "outputs": [],
   "source": [
    "#how to create own function.\n",
    "#moduler coding approch.\n",
    "def test():\n",
    "    pass"
   ]
  },
  {
   "cell_type": "code",
   "execution_count": 5,
   "id": "828f3b66",
   "metadata": {},
   "outputs": [],
   "source": [
    "def test1():\n",
    "    print(\"this is my first fun\")"
   ]
  },
  {
   "cell_type": "code",
   "execution_count": 7,
   "id": "98ce8202",
   "metadata": {},
   "outputs": [
    {
     "name": "stdout",
     "output_type": "stream",
     "text": [
      "this is my first fun\n"
     ]
    }
   ],
   "source": [
    "test1()"
   ]
  },
  {
   "cell_type": "code",
   "execution_count": 11,
   "id": "51b34782",
   "metadata": {},
   "outputs": [
    {
     "name": "stdout",
     "output_type": "stream",
     "text": [
      "this is my first fun\n"
     ]
    },
    {
     "data": {
      "text/plain": [
       "'Nonesudh'"
      ]
     },
     "execution_count": 11,
     "metadata": {},
     "output_type": "execute_result"
    }
   ],
   "source": [
    "a = test1()\n",
    "a +\"sudh\""
   ]
  },
  {
   "cell_type": "code",
   "execution_count": 13,
   "id": "96f99ddd",
   "metadata": {},
   "outputs": [],
   "source": [
    "def test2():\n",
    "    return \"this is my first function\""
   ]
  },
  {
   "cell_type": "code",
   "execution_count": 14,
   "id": "5f7f5ce1",
   "metadata": {},
   "outputs": [
    {
     "data": {
      "text/plain": [
       "str"
      ]
     },
     "execution_count": 14,
     "metadata": {},
     "output_type": "execute_result"
    }
   ],
   "source": [
    "type(test2())"
   ]
  },
  {
   "cell_type": "code",
   "execution_count": 19,
   "id": "74a9527e",
   "metadata": {},
   "outputs": [
    {
     "data": {
      "text/plain": [
       "'this is my first function: sudh'"
      ]
     },
     "execution_count": 19,
     "metadata": {},
     "output_type": "execute_result"
    }
   ],
   "source": [
    "test2() + \": sudh\""
   ]
  },
  {
   "cell_type": "code",
   "execution_count": 20,
   "id": "3757c98c",
   "metadata": {},
   "outputs": [],
   "source": [
    "def test3():\n",
    "    return 242412"
   ]
  },
  {
   "cell_type": "code",
   "execution_count": 22,
   "id": "09273806",
   "metadata": {},
   "outputs": [
    {
     "data": {
      "text/plain": [
       "int"
      ]
     },
     "execution_count": 22,
     "metadata": {},
     "output_type": "execute_result"
    }
   ],
   "source": [
    "type(test3())"
   ]
  },
  {
   "cell_type": "code",
   "execution_count": 23,
   "id": "d5427b2a",
   "metadata": {},
   "outputs": [],
   "source": [
    "#null_nonetype all are diffrent\n",
    "def test4():\n",
    "    return 4,3,\"sudh\", [1,5,8,9]"
   ]
  },
  {
   "cell_type": "code",
   "execution_count": 24,
   "id": "040e868e",
   "metadata": {},
   "outputs": [
    {
     "data": {
      "text/plain": [
       "tuple"
      ]
     },
     "execution_count": 24,
     "metadata": {},
     "output_type": "execute_result"
    }
   ],
   "source": [
    "type(test4())"
   ]
  },
  {
   "cell_type": "code",
   "execution_count": 25,
   "id": "fa305489",
   "metadata": {},
   "outputs": [
    {
     "data": {
      "text/plain": [
       "(4, 3, 'sudh', [1, 5, 8, 9])"
      ]
     },
     "execution_count": 25,
     "metadata": {},
     "output_type": "execute_result"
    }
   ],
   "source": [
    "test4()"
   ]
  },
  {
   "cell_type": "code",
   "execution_count": 27,
   "id": "20408a63",
   "metadata": {},
   "outputs": [],
   "source": [
    " b = test4()"
   ]
  },
  {
   "cell_type": "code",
   "execution_count": 28,
   "id": "59137794",
   "metadata": {},
   "outputs": [
    {
     "data": {
      "text/plain": [
       "(4, 3, 'sudh', [1, 5, 8, 9])"
      ]
     },
     "execution_count": 28,
     "metadata": {},
     "output_type": "execute_result"
    }
   ],
   "source": [
    "b"
   ]
  },
  {
   "cell_type": "code",
   "execution_count": 29,
   "id": "6c8d52cc",
   "metadata": {},
   "outputs": [
    {
     "data": {
      "text/plain": [
       "[4, 3, 'sudh', [1, 5, 8, 9]]"
      ]
     },
     "execution_count": 29,
     "metadata": {},
     "output_type": "execute_result"
    }
   ],
   "source": [
    "list(b)"
   ]
  },
  {
   "cell_type": "code",
   "execution_count": 30,
   "id": "6fc36f0c",
   "metadata": {},
   "outputs": [
    {
     "data": {
      "text/plain": [
       "'sudh'"
      ]
     },
     "execution_count": 30,
     "metadata": {},
     "output_type": "execute_result"
    }
   ],
   "source": [
    "b[2]"
   ]
  },
  {
   "cell_type": "code",
   "execution_count": 31,
   "id": "83f0c251",
   "metadata": {},
   "outputs": [
    {
     "data": {
      "text/plain": [
       "(4, 3, 'sudh', [1, 5, 8, 9])"
      ]
     },
     "execution_count": 31,
     "metadata": {},
     "output_type": "execute_result"
    }
   ],
   "source": [
    "test4()"
   ]
  },
  {
   "cell_type": "code",
   "execution_count": 38,
   "id": "5ea0b720",
   "metadata": {},
   "outputs": [],
   "source": [
    "x,x1,x2,x3 = test4()"
   ]
  },
  {
   "cell_type": "code",
   "execution_count": 33,
   "id": "1d99e146",
   "metadata": {},
   "outputs": [
    {
     "data": {
      "text/plain": [
       "4"
      ]
     },
     "execution_count": 33,
     "metadata": {},
     "output_type": "execute_result"
    }
   ],
   "source": [
    "x"
   ]
  },
  {
   "cell_type": "code",
   "execution_count": 34,
   "id": "3cdf40f7",
   "metadata": {},
   "outputs": [
    {
     "data": {
      "text/plain": [
       "'sudh'"
      ]
     },
     "execution_count": 34,
     "metadata": {},
     "output_type": "execute_result"
    }
   ],
   "source": [
    "x2"
   ]
  },
  {
   "cell_type": "code",
   "execution_count": 42,
   "id": "d8dfa14f",
   "metadata": {},
   "outputs": [],
   "source": [
    "def test15():\n",
    "    return 1,4,8"
   ]
  },
  {
   "cell_type": "code",
   "execution_count": 43,
   "id": "2e1eb95d",
   "metadata": {},
   "outputs": [],
   "source": [
    "x5,x6,x7 = test15()"
   ]
  },
  {
   "cell_type": "code",
   "execution_count": 44,
   "id": "a1348d65",
   "metadata": {},
   "outputs": [
    {
     "data": {
      "text/plain": [
       "1"
      ]
     },
     "execution_count": 44,
     "metadata": {},
     "output_type": "execute_result"
    }
   ],
   "source": [
    "x5"
   ]
  },
  {
   "cell_type": "code",
   "execution_count": 50,
   "id": "b976a35b",
   "metadata": {},
   "outputs": [],
   "source": [
    "def test5():\n",
    "    a123 = 6*17/6\n",
    "    return a123"
   ]
  },
  {
   "cell_type": "code",
   "execution_count": 51,
   "id": "9caead23",
   "metadata": {},
   "outputs": [
    {
     "data": {
      "text/plain": [
       "17.0"
      ]
     },
     "execution_count": 51,
     "metadata": {},
     "output_type": "execute_result"
    }
   ],
   "source": [
    "test5()"
   ]
  },
  {
   "cell_type": "code",
   "execution_count": 47,
   "id": "370a4e84",
   "metadata": {},
   "outputs": [
    {
     "data": {
      "text/plain": [
       "'None'"
      ]
     },
     "execution_count": 47,
     "metadata": {},
     "output_type": "execute_result"
    }
   ],
   "source": [
    "a"
   ]
  },
  {
   "cell_type": "code",
   "execution_count": 70,
   "id": "5390f5ad",
   "metadata": {},
   "outputs": [],
   "source": [
    "l = [2,3,4,5,8,9,\"vivek\", [1,2,3]]   \n",
    "v =  [2,3,4,5,8,9,\"vivek\", [1,2,3]]"
   ]
  },
  {
   "cell_type": "code",
   "execution_count": 71,
   "id": "fe129267",
   "metadata": {},
   "outputs": [],
   "source": [
    "def test6(v):\n",
    "    n = []\n",
    "    if type(v) == list:\n",
    "        for i in v:\n",
    "            if type(i) == int:\n",
    "                n.append(i)\n",
    "    return n"
   ]
  },
  {
   "cell_type": "code",
   "execution_count": 56,
   "id": "660c7a60",
   "metadata": {},
   "outputs": [],
   "source": [
    "v =  [2,3,4,5,8,9,\"vivek\", [1,2,3]]"
   ]
  },
  {
   "cell_type": "code",
   "execution_count": 59,
   "id": "4fd9d7cb",
   "metadata": {},
   "outputs": [
    {
     "name": "stdout",
     "output_type": "stream",
     "text": [
      "[2, 3, 4, 5, 8, 9]\n"
     ]
    }
   ],
   "source": [
    "print(test6(v))"
   ]
  },
  {
   "cell_type": "code",
   "execution_count": 60,
   "id": "31728029",
   "metadata": {},
   "outputs": [
    {
     "data": {
      "text/plain": [
       "[2, 3, 4, 5, 8, 9]"
      ]
     },
     "execution_count": 60,
     "metadata": {},
     "output_type": "execute_result"
    }
   ],
   "source": [
    "test6(l)"
   ]
  },
  {
   "cell_type": "code",
   "execution_count": 72,
   "id": "69238621",
   "metadata": {},
   "outputs": [],
   "source": [
    "def test8(c):\n",
    "    if type(c) == dict:\n",
    "        return c.keys()\n",
    "    else:\n",
    "        return \"you have not passed a dict\""
   ]
  },
  {
   "cell_type": "code",
   "execution_count": 73,
   "id": "a675e536",
   "metadata": {},
   "outputs": [],
   "source": [
    "a = [1,25,25,23,789]\n",
    "b = [2,56,89,75,26,255]\n",
    "\n",
    "def test123(a,b):\n",
    "    if type(a) == list and type(b) == list:\n",
    "        return a.extend(b)\n",
    "    else :\n",
    "        return \"either of your data is not a list\""
   ]
  },
  {
   "cell_type": "code",
   "execution_count": 74,
   "id": "34d6452e",
   "metadata": {},
   "outputs": [],
   "source": [
    "test123(a,b)"
   ]
  },
  {
   "cell_type": "code",
   "execution_count": 75,
   "id": "c401fc70",
   "metadata": {},
   "outputs": [
    {
     "data": {
      "text/plain": [
       "[1, 25, 25, 23, 789, 2, 56, 89, 75, 26, 255]"
      ]
     },
     "execution_count": 75,
     "metadata": {},
     "output_type": "execute_result"
    }
   ],
   "source": [
    "a"
   ]
  },
  {
   "cell_type": "code",
   "execution_count": 81,
   "id": "d78aceb6",
   "metadata": {},
   "outputs": [],
   "source": [
    "def test123(a,b):\n",
    "    if type(a) == list and type(b) == list:\n",
    "        a.extend(b)\n",
    "        return a\n",
    "    else :\n",
    "        return \"either of your data is not a list\""
   ]
  },
  {
   "cell_type": "code",
   "execution_count": 77,
   "id": "2d90210d",
   "metadata": {},
   "outputs": [
    {
     "data": {
      "text/plain": [
       "[1, 25, 25, 23, 789, 2, 56, 89, 75, 26, 255, 2, 56, 89, 75, 26, 255]"
      ]
     },
     "execution_count": 77,
     "metadata": {},
     "output_type": "execute_result"
    }
   ],
   "source": [
    "test123(a,b)"
   ]
  },
  {
   "cell_type": "code",
   "execution_count": 82,
   "id": "855c5d2c",
   "metadata": {},
   "outputs": [
    {
     "data": {
      "text/plain": [
       "[1, 25, 25, 23, 789, 2, 56, 89, 75, 26, 255, 2, 56, 89, 75, 26, 255]"
      ]
     },
     "execution_count": 82,
     "metadata": {},
     "output_type": "execute_result"
    }
   ],
   "source": [
    "a"
   ]
  },
  {
   "cell_type": "code",
   "execution_count": 2,
   "id": "86a9fee3",
   "metadata": {},
   "outputs": [],
   "source": [
    "# great use of function\n",
    "def Left_side_triangle(n):\n",
    "    \"\"\"this is triangle function\"\"\"\n",
    "    for i in range(0,n):\n",
    "        for j in range(0,i+1):\n",
    "            print(\"o \", end=\"\")\n",
    "        print(\"\\r\")"
   ]
  },
  {
   "cell_type": "code",
   "execution_count": 3,
   "id": "5a62c4fb",
   "metadata": {},
   "outputs": [
    {
     "name": "stdout",
     "output_type": "stream",
     "text": [
      "o \r\n",
      "o o \r\n",
      "o o o \r\n",
      "o o o o \r\n",
      "o o o o o \r\n",
      "o o o o o o \r\n",
      "o o o o o o o \r\n",
      "o o o o o o o o \r\n",
      "o o o o o o o o o \r\n",
      "o o o o o o o o o o \r\n",
      "o o o o o o o o o o o \r\n",
      "o o o o o o o o o o o o \r\n",
      "o o o o o o o o o o o o o \r\n",
      "o o o o o o o o o o o o o o \r\n",
      "o o o o o o o o o o o o o o o \r\n"
     ]
    }
   ],
   "source": [
    "Left_side_triangle(15)"
   ]
  },
  {
   "cell_type": "code",
   "execution_count": null,
   "id": "b57850d9",
   "metadata": {},
   "outputs": [],
   "source": []
  }
 ],
 "metadata": {
  "kernelspec": {
   "display_name": "Python 3 (ipykernel)",
   "language": "python",
   "name": "python3"
  },
  "language_info": {
   "codemirror_mode": {
    "name": "ipython",
    "version": 3
   },
   "file_extension": ".py",
   "mimetype": "text/x-python",
   "name": "python",
   "nbconvert_exporter": "python",
   "pygments_lexer": "ipython3",
   "version": "3.9.12"
  }
 },
 "nbformat": 4,
 "nbformat_minor": 5
}
